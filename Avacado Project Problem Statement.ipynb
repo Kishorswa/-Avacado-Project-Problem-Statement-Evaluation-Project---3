{
 "cells": [
  {
   "cell_type": "markdown",
   "id": "aa09c21a",
   "metadata": {},
   "source": [
    "# Avacado Project\n",
    "Problem Statement:\n"
   ]
  },
  {
   "cell_type": "code",
   "execution_count": 1,
   "id": "9a64a6db",
   "metadata": {},
   "outputs": [],
   "source": [
    "import matplotlib.pyplot as plt\n",
    "import seaborn as sns\n",
    "import pandas as pd\n",
    "import numpy as np\n",
    "from sklearn.model_selection import train_test_split, GridSearchCV, RandomizedSearchCV, cross_val_score\n",
    "from sklearn.preprocessing import StandardScaler \n",
    "from sklearn.linear_model import LinearRegression , Ridge, Lasso\n",
    "from sklearn.ensemble import RandomForestRegressor , AdaBoostRegressor\n",
    "from sklearn.tree import DecisionTreeRegressor\n",
    "from sklearn.svm import SVR\n",
    "from sklearn.neighbors import KNeighborsRegressor\n",
    "from sklearn.metrics import r2_score,mean_squared_error"
   ]
  },
  {
   "cell_type": "code",
   "execution_count": 3,
   "id": "4b5df747",
   "metadata": {},
   "outputs": [],
   "source": [
    "avocado_ds = pd.read_csv(\"avocado.csv\")"
   ]
  },
  {
   "cell_type": "code",
   "execution_count": 4,
   "id": "dff3b8dd",
   "metadata": {},
   "outputs": [
    {
     "data": {
      "text/html": [
       "<div>\n",
       "<style scoped>\n",
       "    .dataframe tbody tr th:only-of-type {\n",
       "        vertical-align: middle;\n",
       "    }\n",
       "\n",
       "    .dataframe tbody tr th {\n",
       "        vertical-align: top;\n",
       "    }\n",
       "\n",
       "    .dataframe thead th {\n",
       "        text-align: right;\n",
       "    }\n",
       "</style>\n",
       "<table border=\"1\" class=\"dataframe\">\n",
       "  <thead>\n",
       "    <tr style=\"text-align: right;\">\n",
       "      <th></th>\n",
       "      <th>Unnamed: 0</th>\n",
       "      <th>Date</th>\n",
       "      <th>AveragePrice</th>\n",
       "      <th>Total Volume</th>\n",
       "      <th>4046</th>\n",
       "      <th>4225</th>\n",
       "      <th>4770</th>\n",
       "      <th>Total Bags</th>\n",
       "      <th>Small Bags</th>\n",
       "      <th>Large Bags</th>\n",
       "      <th>XLarge Bags</th>\n",
       "      <th>type</th>\n",
       "      <th>year</th>\n",
       "      <th>region</th>\n",
       "    </tr>\n",
       "  </thead>\n",
       "  <tbody>\n",
       "    <tr>\n",
       "      <th>0</th>\n",
       "      <td>0.0</td>\n",
       "      <td>27-12-2015</td>\n",
       "      <td>1.33</td>\n",
       "      <td>64236.62</td>\n",
       "      <td>1036.74</td>\n",
       "      <td>54454.85</td>\n",
       "      <td>48.16</td>\n",
       "      <td>8696.87</td>\n",
       "      <td>8603.62</td>\n",
       "      <td>93.25</td>\n",
       "      <td>0.0</td>\n",
       "      <td>conventional</td>\n",
       "      <td>2015.0</td>\n",
       "      <td>Albany</td>\n",
       "    </tr>\n",
       "    <tr>\n",
       "      <th>1</th>\n",
       "      <td>1.0</td>\n",
       "      <td>20-12-2015</td>\n",
       "      <td>1.35</td>\n",
       "      <td>54876.98</td>\n",
       "      <td>674.28</td>\n",
       "      <td>44638.81</td>\n",
       "      <td>58.33</td>\n",
       "      <td>9505.56</td>\n",
       "      <td>9408.07</td>\n",
       "      <td>97.49</td>\n",
       "      <td>0.0</td>\n",
       "      <td>conventional</td>\n",
       "      <td>2015.0</td>\n",
       "      <td>Albany</td>\n",
       "    </tr>\n",
       "    <tr>\n",
       "      <th>2</th>\n",
       "      <td>2.0</td>\n",
       "      <td>13-12-2015</td>\n",
       "      <td>0.93</td>\n",
       "      <td>118220.22</td>\n",
       "      <td>794.70</td>\n",
       "      <td>109149.67</td>\n",
       "      <td>130.50</td>\n",
       "      <td>8145.35</td>\n",
       "      <td>8042.21</td>\n",
       "      <td>103.14</td>\n",
       "      <td>0.0</td>\n",
       "      <td>conventional</td>\n",
       "      <td>2015.0</td>\n",
       "      <td>Albany</td>\n",
       "    </tr>\n",
       "    <tr>\n",
       "      <th>3</th>\n",
       "      <td>3.0</td>\n",
       "      <td>06-12-2015</td>\n",
       "      <td>1.08</td>\n",
       "      <td>78992.15</td>\n",
       "      <td>1132.00</td>\n",
       "      <td>71976.41</td>\n",
       "      <td>72.58</td>\n",
       "      <td>5811.16</td>\n",
       "      <td>5677.40</td>\n",
       "      <td>133.76</td>\n",
       "      <td>0.0</td>\n",
       "      <td>conventional</td>\n",
       "      <td>2015.0</td>\n",
       "      <td>Albany</td>\n",
       "    </tr>\n",
       "    <tr>\n",
       "      <th>4</th>\n",
       "      <td>4.0</td>\n",
       "      <td>29-11-2015</td>\n",
       "      <td>1.28</td>\n",
       "      <td>51039.60</td>\n",
       "      <td>941.48</td>\n",
       "      <td>43838.39</td>\n",
       "      <td>75.78</td>\n",
       "      <td>6183.95</td>\n",
       "      <td>5986.26</td>\n",
       "      <td>197.69</td>\n",
       "      <td>0.0</td>\n",
       "      <td>conventional</td>\n",
       "      <td>2015.0</td>\n",
       "      <td>Albany</td>\n",
       "    </tr>\n",
       "  </tbody>\n",
       "</table>\n",
       "</div>"
      ],
      "text/plain": [
       "   Unnamed: 0        Date  AveragePrice  Total Volume     4046       4225  \\\n",
       "0         0.0  27-12-2015          1.33      64236.62  1036.74   54454.85   \n",
       "1         1.0  20-12-2015          1.35      54876.98   674.28   44638.81   \n",
       "2         2.0  13-12-2015          0.93     118220.22   794.70  109149.67   \n",
       "3         3.0  06-12-2015          1.08      78992.15  1132.00   71976.41   \n",
       "4         4.0  29-11-2015          1.28      51039.60   941.48   43838.39   \n",
       "\n",
       "     4770  Total Bags  Small Bags  Large Bags  XLarge Bags          type  \\\n",
       "0   48.16     8696.87     8603.62       93.25          0.0  conventional   \n",
       "1   58.33     9505.56     9408.07       97.49          0.0  conventional   \n",
       "2  130.50     8145.35     8042.21      103.14          0.0  conventional   \n",
       "3   72.58     5811.16     5677.40      133.76          0.0  conventional   \n",
       "4   75.78     6183.95     5986.26      197.69          0.0  conventional   \n",
       "\n",
       "     year  region  \n",
       "0  2015.0  Albany  \n",
       "1  2015.0  Albany  \n",
       "2  2015.0  Albany  \n",
       "3  2015.0  Albany  \n",
       "4  2015.0  Albany  "
      ]
     },
     "execution_count": 4,
     "metadata": {},
     "output_type": "execute_result"
    }
   ],
   "source": [
    "avocado_ds.head() # checking top 5 observations"
   ]
  },
  {
   "cell_type": "code",
   "execution_count": 5,
   "id": "3d87af5d",
   "metadata": {},
   "outputs": [
    {
     "data": {
      "text/html": [
       "<div>\n",
       "<style scoped>\n",
       "    .dataframe tbody tr th:only-of-type {\n",
       "        vertical-align: middle;\n",
       "    }\n",
       "\n",
       "    .dataframe tbody tr th {\n",
       "        vertical-align: top;\n",
       "    }\n",
       "\n",
       "    .dataframe thead th {\n",
       "        text-align: right;\n",
       "    }\n",
       "</style>\n",
       "<table border=\"1\" class=\"dataframe\">\n",
       "  <thead>\n",
       "    <tr style=\"text-align: right;\">\n",
       "      <th></th>\n",
       "      <th>Unnamed: 0</th>\n",
       "      <th>Date</th>\n",
       "      <th>AveragePrice</th>\n",
       "      <th>Total Volume</th>\n",
       "      <th>4046</th>\n",
       "      <th>4225</th>\n",
       "      <th>4770</th>\n",
       "      <th>Total Bags</th>\n",
       "      <th>Small Bags</th>\n",
       "      <th>Large Bags</th>\n",
       "      <th>XLarge Bags</th>\n",
       "      <th>type</th>\n",
       "      <th>year</th>\n",
       "      <th>region</th>\n",
       "    </tr>\n",
       "  </thead>\n",
       "  <tbody>\n",
       "    <tr>\n",
       "      <th>16463</th>\n",
       "      <td>NaN</td>\n",
       "      <td>NaN</td>\n",
       "      <td>NaN</td>\n",
       "      <td>NaN</td>\n",
       "      <td>NaN</td>\n",
       "      <td>NaN</td>\n",
       "      <td>NaN</td>\n",
       "      <td>NaN</td>\n",
       "      <td>NaN</td>\n",
       "      <td>NaN</td>\n",
       "      <td>NaN</td>\n",
       "      <td>NaN</td>\n",
       "      <td>NaN</td>\n",
       "      <td>NaN</td>\n",
       "    </tr>\n",
       "    <tr>\n",
       "      <th>16464</th>\n",
       "      <td>NaN</td>\n",
       "      <td>NaN</td>\n",
       "      <td>NaN</td>\n",
       "      <td>NaN</td>\n",
       "      <td>NaN</td>\n",
       "      <td>NaN</td>\n",
       "      <td>NaN</td>\n",
       "      <td>NaN</td>\n",
       "      <td>NaN</td>\n",
       "      <td>NaN</td>\n",
       "      <td>NaN</td>\n",
       "      <td>NaN</td>\n",
       "      <td>NaN</td>\n",
       "      <td>NaN</td>\n",
       "    </tr>\n",
       "    <tr>\n",
       "      <th>16465</th>\n",
       "      <td>NaN</td>\n",
       "      <td>NaN</td>\n",
       "      <td>NaN</td>\n",
       "      <td>NaN</td>\n",
       "      <td>NaN</td>\n",
       "      <td>NaN</td>\n",
       "      <td>NaN</td>\n",
       "      <td>NaN</td>\n",
       "      <td>NaN</td>\n",
       "      <td>NaN</td>\n",
       "      <td>NaN</td>\n",
       "      <td>NaN</td>\n",
       "      <td>NaN</td>\n",
       "      <td>NaN</td>\n",
       "    </tr>\n",
       "    <tr>\n",
       "      <th>16466</th>\n",
       "      <td>NaN</td>\n",
       "      <td>NaN</td>\n",
       "      <td>NaN</td>\n",
       "      <td>NaN</td>\n",
       "      <td>NaN</td>\n",
       "      <td>NaN</td>\n",
       "      <td>NaN</td>\n",
       "      <td>NaN</td>\n",
       "      <td>NaN</td>\n",
       "      <td>NaN</td>\n",
       "      <td>NaN</td>\n",
       "      <td>NaN</td>\n",
       "      <td>NaN</td>\n",
       "      <td>NaN</td>\n",
       "    </tr>\n",
       "    <tr>\n",
       "      <th>16467</th>\n",
       "      <td>NaN</td>\n",
       "      <td>NaN</td>\n",
       "      <td>NaN</td>\n",
       "      <td>NaN</td>\n",
       "      <td>NaN</td>\n",
       "      <td>NaN</td>\n",
       "      <td>NaN</td>\n",
       "      <td>NaN</td>\n",
       "      <td>NaN</td>\n",
       "      <td>NaN</td>\n",
       "      <td>NaN</td>\n",
       "      <td>NaN</td>\n",
       "      <td>NaN</td>\n",
       "      <td>NaN</td>\n",
       "    </tr>\n",
       "  </tbody>\n",
       "</table>\n",
       "</div>"
      ],
      "text/plain": [
       "       Unnamed: 0 Date  AveragePrice  Total Volume  4046  4225  4770  \\\n",
       "16463         NaN  NaN           NaN           NaN   NaN   NaN   NaN   \n",
       "16464         NaN  NaN           NaN           NaN   NaN   NaN   NaN   \n",
       "16465         NaN  NaN           NaN           NaN   NaN   NaN   NaN   \n",
       "16466         NaN  NaN           NaN           NaN   NaN   NaN   NaN   \n",
       "16467         NaN  NaN           NaN           NaN   NaN   NaN   NaN   \n",
       "\n",
       "       Total Bags  Small Bags  Large Bags  XLarge Bags type  year region  \n",
       "16463         NaN         NaN         NaN          NaN  NaN   NaN    NaN  \n",
       "16464         NaN         NaN         NaN          NaN  NaN   NaN    NaN  \n",
       "16465         NaN         NaN         NaN          NaN  NaN   NaN    NaN  \n",
       "16466         NaN         NaN         NaN          NaN  NaN   NaN    NaN  \n",
       "16467         NaN         NaN         NaN          NaN  NaN   NaN    NaN  "
      ]
     },
     "execution_count": 5,
     "metadata": {},
     "output_type": "execute_result"
    }
   ],
   "source": [
    "avocado_ds.tail()# checking last 5 observations"
   ]
  },
  {
   "cell_type": "code",
   "execution_count": 6,
   "id": "3dc5e4e9",
   "metadata": {},
   "outputs": [
    {
     "name": "stdout",
     "output_type": "stream",
     "text": [
      "<class 'pandas.core.frame.DataFrame'>\n",
      "RangeIndex: 16468 entries, 0 to 16467\n",
      "Data columns (total 14 columns):\n",
      " #   Column        Non-Null Count  Dtype  \n",
      "---  ------        --------------  -----  \n",
      " 0   Unnamed: 0    1517 non-null   float64\n",
      " 1   Date          1517 non-null   object \n",
      " 2   AveragePrice  1517 non-null   float64\n",
      " 3   Total Volume  1517 non-null   float64\n",
      " 4   4046          1517 non-null   float64\n",
      " 5   4225          1517 non-null   float64\n",
      " 6   4770          1517 non-null   float64\n",
      " 7   Total Bags    1517 non-null   float64\n",
      " 8   Small Bags    1517 non-null   float64\n",
      " 9   Large Bags    1517 non-null   float64\n",
      " 10  XLarge Bags   1517 non-null   float64\n",
      " 11  type          1517 non-null   object \n",
      " 12  year          1517 non-null   float64\n",
      " 13  region        1517 non-null   object \n",
      "dtypes: float64(11), object(3)\n",
      "memory usage: 1.8+ MB\n"
     ]
    }
   ],
   "source": [
    "avocado_ds.info() "
   ]
  },
  {
   "cell_type": "code",
   "execution_count": 7,
   "id": "07a10e5e",
   "metadata": {},
   "outputs": [],
   "source": [
    "# deleting the unnamed column from the dataset as it has its own index\n",
    "avocado_ds.drop(\"Unnamed: 0\",axis=1, inplace = True)"
   ]
  },
  {
   "cell_type": "code",
   "execution_count": 8,
   "id": "2afc2112",
   "metadata": {},
   "outputs": [
    {
     "name": "stdout",
     "output_type": "stream",
     "text": [
      "(16468, 13)\n",
      "Index(['Date', 'AveragePrice', 'Total Volume', '4046', '4225', '4770',\n",
      "       'Total Bags', 'Small Bags', 'Large Bags', 'XLarge Bags', 'type', 'year',\n",
      "       'region'],\n",
      "      dtype='object')\n"
     ]
    }
   ],
   "source": [
    "print(avocado_ds.shape)\n",
    "print(avocado_ds.columns)"
   ]
  },
  {
   "cell_type": "code",
   "execution_count": 9,
   "id": "3dfc7d82",
   "metadata": {},
   "outputs": [],
   "source": [
    "avocado_ds_work_file = avocado_ds.copy()"
   ]
  },
  {
   "cell_type": "code",
   "execution_count": 10,
   "id": "d38d17fe",
   "metadata": {},
   "outputs": [],
   "source": [
    "avocado_ds_work_file.replace({\"NaN\": np.nan},inplace=True)"
   ]
  },
  {
   "cell_type": "code",
   "execution_count": 12,
   "id": "b1cc10c9",
   "metadata": {},
   "outputs": [],
   "source": [
    "def missing_val(x):\n",
    "  missing = {}\n",
    "  for i in avocado_ds_work_file.columns:\n",
    "    if avocado_ds_work_file[i].isnull().sum()> 0:\n",
    "      missing[i] = avocado_ds_work_file[i].isnull().sum()\n",
    "  print(missing,end = \" \")"
   ]
  },
  {
   "cell_type": "code",
   "execution_count": 13,
   "id": "a91520d1",
   "metadata": {},
   "outputs": [
    {
     "name": "stdout",
     "output_type": "stream",
     "text": [
      "{'Date': 14951, 'AveragePrice': 14951, 'Total Volume': 14951, '4046': 14951, '4225': 14951, '4770': 14951, 'Total Bags': 14951, 'Small Bags': 14951, 'Large Bags': 14951, 'XLarge Bags': 14951, 'type': 14951, 'year': 14951, 'region': 14951} \n",
      "\n",
      "Percentage of missing data:\n",
      " Date            90.788195\n",
      "AveragePrice    90.788195\n",
      "Total Volume    90.788195\n",
      "4046            90.788195\n",
      "4225            90.788195\n",
      "4770            90.788195\n",
      "Total Bags      90.788195\n",
      "Small Bags      90.788195\n",
      "Large Bags      90.788195\n",
      "XLarge Bags     90.788195\n",
      "type            90.788195\n",
      "year            90.788195\n",
      "region          90.788195\n",
      "dtype: float64\n"
     ]
    }
   ],
   "source": [
    "# calling the function\n",
    "missing_val(avocado_ds_work_file)\n",
    "print(\"\\n\")\n",
    "print(\"Percentage of missing data:\\n\",avocado_ds_work_file.isnull().sum()/len(avocado_ds_work_file)*100)"
   ]
  },
  {
   "cell_type": "code",
   "execution_count": 14,
   "id": "ca77e4d0",
   "metadata": {},
   "outputs": [
    {
     "name": "stdout",
     "output_type": "stream",
     "text": [
      "{} "
     ]
    }
   ],
   "source": [
    "avocado_ds_work_file.dropna(inplace=True)\n",
    "missing_val(avocado_ds_work_file) "
   ]
  },
  {
   "cell_type": "code",
   "execution_count": 15,
   "id": "1d0650b9",
   "metadata": {},
   "outputs": [
    {
     "name": "stderr",
     "output_type": "stream",
     "text": [
      "C:\\Users\\kisho\\anaconda3\\lib\\site-packages\\pandas\\core\\tools\\datetimes.py:1047: UserWarning: Parsing '27-12-2015' in DD/MM/YYYY format. Provide format or specify infer_datetime_format=True for consistent parsing.\n",
      "  cache_array = _maybe_cache(arg, format, cache, convert_listlike)\n",
      "C:\\Users\\kisho\\anaconda3\\lib\\site-packages\\pandas\\core\\tools\\datetimes.py:1047: UserWarning: Parsing '20-12-2015' in DD/MM/YYYY format. Provide format or specify infer_datetime_format=True for consistent parsing.\n",
      "  cache_array = _maybe_cache(arg, format, cache, convert_listlike)\n",
      "C:\\Users\\kisho\\anaconda3\\lib\\site-packages\\pandas\\core\\tools\\datetimes.py:1047: UserWarning: Parsing '13-12-2015' in DD/MM/YYYY format. Provide format or specify infer_datetime_format=True for consistent parsing.\n",
      "  cache_array = _maybe_cache(arg, format, cache, convert_listlike)\n",
      "C:\\Users\\kisho\\anaconda3\\lib\\site-packages\\pandas\\core\\tools\\datetimes.py:1047: UserWarning: Parsing '29-11-2015' in DD/MM/YYYY format. Provide format or specify infer_datetime_format=True for consistent parsing.\n",
      "  cache_array = _maybe_cache(arg, format, cache, convert_listlike)\n",
      "C:\\Users\\kisho\\anaconda3\\lib\\site-packages\\pandas\\core\\tools\\datetimes.py:1047: UserWarning: Parsing '22-11-2015' in DD/MM/YYYY format. Provide format or specify infer_datetime_format=True for consistent parsing.\n",
      "  cache_array = _maybe_cache(arg, format, cache, convert_listlike)\n",
      "C:\\Users\\kisho\\anaconda3\\lib\\site-packages\\pandas\\core\\tools\\datetimes.py:1047: UserWarning: Parsing '15-11-2015' in DD/MM/YYYY format. Provide format or specify infer_datetime_format=True for consistent parsing.\n",
      "  cache_array = _maybe_cache(arg, format, cache, convert_listlike)\n",
      "C:\\Users\\kisho\\anaconda3\\lib\\site-packages\\pandas\\core\\tools\\datetimes.py:1047: UserWarning: Parsing '25-10-2015' in DD/MM/YYYY format. Provide format or specify infer_datetime_format=True for consistent parsing.\n",
      "  cache_array = _maybe_cache(arg, format, cache, convert_listlike)\n",
      "C:\\Users\\kisho\\anaconda3\\lib\\site-packages\\pandas\\core\\tools\\datetimes.py:1047: UserWarning: Parsing '18-10-2015' in DD/MM/YYYY format. Provide format or specify infer_datetime_format=True for consistent parsing.\n",
      "  cache_array = _maybe_cache(arg, format, cache, convert_listlike)\n",
      "C:\\Users\\kisho\\anaconda3\\lib\\site-packages\\pandas\\core\\tools\\datetimes.py:1047: UserWarning: Parsing '27-09-2015' in DD/MM/YYYY format. Provide format or specify infer_datetime_format=True for consistent parsing.\n",
      "  cache_array = _maybe_cache(arg, format, cache, convert_listlike)\n",
      "C:\\Users\\kisho\\anaconda3\\lib\\site-packages\\pandas\\core\\tools\\datetimes.py:1047: UserWarning: Parsing '20-09-2015' in DD/MM/YYYY format. Provide format or specify infer_datetime_format=True for consistent parsing.\n",
      "  cache_array = _maybe_cache(arg, format, cache, convert_listlike)\n",
      "C:\\Users\\kisho\\anaconda3\\lib\\site-packages\\pandas\\core\\tools\\datetimes.py:1047: UserWarning: Parsing '13-09-2015' in DD/MM/YYYY format. Provide format or specify infer_datetime_format=True for consistent parsing.\n",
      "  cache_array = _maybe_cache(arg, format, cache, convert_listlike)\n",
      "C:\\Users\\kisho\\anaconda3\\lib\\site-packages\\pandas\\core\\tools\\datetimes.py:1047: UserWarning: Parsing '30-08-2015' in DD/MM/YYYY format. Provide format or specify infer_datetime_format=True for consistent parsing.\n",
      "  cache_array = _maybe_cache(arg, format, cache, convert_listlike)\n",
      "C:\\Users\\kisho\\anaconda3\\lib\\site-packages\\pandas\\core\\tools\\datetimes.py:1047: UserWarning: Parsing '23-08-2015' in DD/MM/YYYY format. Provide format or specify infer_datetime_format=True for consistent parsing.\n",
      "  cache_array = _maybe_cache(arg, format, cache, convert_listlike)\n",
      "C:\\Users\\kisho\\anaconda3\\lib\\site-packages\\pandas\\core\\tools\\datetimes.py:1047: UserWarning: Parsing '16-08-2015' in DD/MM/YYYY format. Provide format or specify infer_datetime_format=True for consistent parsing.\n",
      "  cache_array = _maybe_cache(arg, format, cache, convert_listlike)\n",
      "C:\\Users\\kisho\\anaconda3\\lib\\site-packages\\pandas\\core\\tools\\datetimes.py:1047: UserWarning: Parsing '26-07-2015' in DD/MM/YYYY format. Provide format or specify infer_datetime_format=True for consistent parsing.\n",
      "  cache_array = _maybe_cache(arg, format, cache, convert_listlike)\n",
      "C:\\Users\\kisho\\anaconda3\\lib\\site-packages\\pandas\\core\\tools\\datetimes.py:1047: UserWarning: Parsing '19-07-2015' in DD/MM/YYYY format. Provide format or specify infer_datetime_format=True for consistent parsing.\n",
      "  cache_array = _maybe_cache(arg, format, cache, convert_listlike)\n",
      "C:\\Users\\kisho\\anaconda3\\lib\\site-packages\\pandas\\core\\tools\\datetimes.py:1047: UserWarning: Parsing '28-06-2015' in DD/MM/YYYY format. Provide format or specify infer_datetime_format=True for consistent parsing.\n",
      "  cache_array = _maybe_cache(arg, format, cache, convert_listlike)\n",
      "C:\\Users\\kisho\\anaconda3\\lib\\site-packages\\pandas\\core\\tools\\datetimes.py:1047: UserWarning: Parsing '21-06-2015' in DD/MM/YYYY format. Provide format or specify infer_datetime_format=True for consistent parsing.\n",
      "  cache_array = _maybe_cache(arg, format, cache, convert_listlike)\n",
      "C:\\Users\\kisho\\anaconda3\\lib\\site-packages\\pandas\\core\\tools\\datetimes.py:1047: UserWarning: Parsing '14-06-2015' in DD/MM/YYYY format. Provide format or specify infer_datetime_format=True for consistent parsing.\n",
      "  cache_array = _maybe_cache(arg, format, cache, convert_listlike)\n",
      "C:\\Users\\kisho\\anaconda3\\lib\\site-packages\\pandas\\core\\tools\\datetimes.py:1047: UserWarning: Parsing '31-05-2015' in DD/MM/YYYY format. Provide format or specify infer_datetime_format=True for consistent parsing.\n",
      "  cache_array = _maybe_cache(arg, format, cache, convert_listlike)\n",
      "C:\\Users\\kisho\\anaconda3\\lib\\site-packages\\pandas\\core\\tools\\datetimes.py:1047: UserWarning: Parsing '24-05-2015' in DD/MM/YYYY format. Provide format or specify infer_datetime_format=True for consistent parsing.\n",
      "  cache_array = _maybe_cache(arg, format, cache, convert_listlike)\n",
      "C:\\Users\\kisho\\anaconda3\\lib\\site-packages\\pandas\\core\\tools\\datetimes.py:1047: UserWarning: Parsing '17-05-2015' in DD/MM/YYYY format. Provide format or specify infer_datetime_format=True for consistent parsing.\n",
      "  cache_array = _maybe_cache(arg, format, cache, convert_listlike)\n",
      "C:\\Users\\kisho\\anaconda3\\lib\\site-packages\\pandas\\core\\tools\\datetimes.py:1047: UserWarning: Parsing '26-04-2015' in DD/MM/YYYY format. Provide format or specify infer_datetime_format=True for consistent parsing.\n",
      "  cache_array = _maybe_cache(arg, format, cache, convert_listlike)\n",
      "C:\\Users\\kisho\\anaconda3\\lib\\site-packages\\pandas\\core\\tools\\datetimes.py:1047: UserWarning: Parsing '19-04-2015' in DD/MM/YYYY format. Provide format or specify infer_datetime_format=True for consistent parsing.\n",
      "  cache_array = _maybe_cache(arg, format, cache, convert_listlike)\n",
      "C:\\Users\\kisho\\anaconda3\\lib\\site-packages\\pandas\\core\\tools\\datetimes.py:1047: UserWarning: Parsing '29-03-2015' in DD/MM/YYYY format. Provide format or specify infer_datetime_format=True for consistent parsing.\n",
      "  cache_array = _maybe_cache(arg, format, cache, convert_listlike)\n",
      "C:\\Users\\kisho\\anaconda3\\lib\\site-packages\\pandas\\core\\tools\\datetimes.py:1047: UserWarning: Parsing '22-03-2015' in DD/MM/YYYY format. Provide format or specify infer_datetime_format=True for consistent parsing.\n",
      "  cache_array = _maybe_cache(arg, format, cache, convert_listlike)\n",
      "C:\\Users\\kisho\\anaconda3\\lib\\site-packages\\pandas\\core\\tools\\datetimes.py:1047: UserWarning: Parsing '15-03-2015' in DD/MM/YYYY format. Provide format or specify infer_datetime_format=True for consistent parsing.\n",
      "  cache_array = _maybe_cache(arg, format, cache, convert_listlike)\n",
      "C:\\Users\\kisho\\anaconda3\\lib\\site-packages\\pandas\\core\\tools\\datetimes.py:1047: UserWarning: Parsing '22-02-2015' in DD/MM/YYYY format. Provide format or specify infer_datetime_format=True for consistent parsing.\n",
      "  cache_array = _maybe_cache(arg, format, cache, convert_listlike)\n",
      "C:\\Users\\kisho\\anaconda3\\lib\\site-packages\\pandas\\core\\tools\\datetimes.py:1047: UserWarning: Parsing '15-02-2015' in DD/MM/YYYY format. Provide format or specify infer_datetime_format=True for consistent parsing.\n",
      "  cache_array = _maybe_cache(arg, format, cache, convert_listlike)\n",
      "C:\\Users\\kisho\\anaconda3\\lib\\site-packages\\pandas\\core\\tools\\datetimes.py:1047: UserWarning: Parsing '25-01-2015' in DD/MM/YYYY format. Provide format or specify infer_datetime_format=True for consistent parsing.\n",
      "  cache_array = _maybe_cache(arg, format, cache, convert_listlike)\n",
      "C:\\Users\\kisho\\anaconda3\\lib\\site-packages\\pandas\\core\\tools\\datetimes.py:1047: UserWarning: Parsing '18-01-2015' in DD/MM/YYYY format. Provide format or specify infer_datetime_format=True for consistent parsing.\n",
      "  cache_array = _maybe_cache(arg, format, cache, convert_listlike)\n",
      "C:\\Users\\kisho\\anaconda3\\lib\\site-packages\\pandas\\core\\tools\\datetimes.py:1047: UserWarning: Parsing '25-12-2016' in DD/MM/YYYY format. Provide format or specify infer_datetime_format=True for consistent parsing.\n",
      "  cache_array = _maybe_cache(arg, format, cache, convert_listlike)\n",
      "C:\\Users\\kisho\\anaconda3\\lib\\site-packages\\pandas\\core\\tools\\datetimes.py:1047: UserWarning: Parsing '18-12-2016' in DD/MM/YYYY format. Provide format or specify infer_datetime_format=True for consistent parsing.\n",
      "  cache_array = _maybe_cache(arg, format, cache, convert_listlike)\n",
      "C:\\Users\\kisho\\anaconda3\\lib\\site-packages\\pandas\\core\\tools\\datetimes.py:1047: UserWarning: Parsing '27-11-2016' in DD/MM/YYYY format. Provide format or specify infer_datetime_format=True for consistent parsing.\n",
      "  cache_array = _maybe_cache(arg, format, cache, convert_listlike)\n",
      "C:\\Users\\kisho\\anaconda3\\lib\\site-packages\\pandas\\core\\tools\\datetimes.py:1047: UserWarning: Parsing '20-11-2016' in DD/MM/YYYY format. Provide format or specify infer_datetime_format=True for consistent parsing.\n",
      "  cache_array = _maybe_cache(arg, format, cache, convert_listlike)\n",
      "C:\\Users\\kisho\\anaconda3\\lib\\site-packages\\pandas\\core\\tools\\datetimes.py:1047: UserWarning: Parsing '13-11-2016' in DD/MM/YYYY format. Provide format or specify infer_datetime_format=True for consistent parsing.\n",
      "  cache_array = _maybe_cache(arg, format, cache, convert_listlike)\n",
      "C:\\Users\\kisho\\anaconda3\\lib\\site-packages\\pandas\\core\\tools\\datetimes.py:1047: UserWarning: Parsing '30-10-2016' in DD/MM/YYYY format. Provide format or specify infer_datetime_format=True for consistent parsing.\n",
      "  cache_array = _maybe_cache(arg, format, cache, convert_listlike)\n",
      "C:\\Users\\kisho\\anaconda3\\lib\\site-packages\\pandas\\core\\tools\\datetimes.py:1047: UserWarning: Parsing '23-10-2016' in DD/MM/YYYY format. Provide format or specify infer_datetime_format=True for consistent parsing.\n",
      "  cache_array = _maybe_cache(arg, format, cache, convert_listlike)\n",
      "C:\\Users\\kisho\\anaconda3\\lib\\site-packages\\pandas\\core\\tools\\datetimes.py:1047: UserWarning: Parsing '16-10-2016' in DD/MM/YYYY format. Provide format or specify infer_datetime_format=True for consistent parsing.\n",
      "  cache_array = _maybe_cache(arg, format, cache, convert_listlike)\n",
      "C:\\Users\\kisho\\anaconda3\\lib\\site-packages\\pandas\\core\\tools\\datetimes.py:1047: UserWarning: Parsing '25-09-2016' in DD/MM/YYYY format. Provide format or specify infer_datetime_format=True for consistent parsing.\n",
      "  cache_array = _maybe_cache(arg, format, cache, convert_listlike)\n",
      "C:\\Users\\kisho\\anaconda3\\lib\\site-packages\\pandas\\core\\tools\\datetimes.py:1047: UserWarning: Parsing '18-09-2016' in DD/MM/YYYY format. Provide format or specify infer_datetime_format=True for consistent parsing.\n",
      "  cache_array = _maybe_cache(arg, format, cache, convert_listlike)\n",
      "C:\\Users\\kisho\\anaconda3\\lib\\site-packages\\pandas\\core\\tools\\datetimes.py:1047: UserWarning: Parsing '24-04-2016' in DD/MM/YYYY format. Provide format or specify infer_datetime_format=True for consistent parsing.\n",
      "  cache_array = _maybe_cache(arg, format, cache, convert_listlike)\n",
      "C:\\Users\\kisho\\anaconda3\\lib\\site-packages\\pandas\\core\\tools\\datetimes.py:1047: UserWarning: Parsing '17-04-2016' in DD/MM/YYYY format. Provide format or specify infer_datetime_format=True for consistent parsing.\n",
      "  cache_array = _maybe_cache(arg, format, cache, convert_listlike)\n",
      "C:\\Users\\kisho\\anaconda3\\lib\\site-packages\\pandas\\core\\tools\\datetimes.py:1047: UserWarning: Parsing '27-03-2016' in DD/MM/YYYY format. Provide format or specify infer_datetime_format=True for consistent parsing.\n",
      "  cache_array = _maybe_cache(arg, format, cache, convert_listlike)\n",
      "C:\\Users\\kisho\\anaconda3\\lib\\site-packages\\pandas\\core\\tools\\datetimes.py:1047: UserWarning: Parsing '20-03-2016' in DD/MM/YYYY format. Provide format or specify infer_datetime_format=True for consistent parsing.\n",
      "  cache_array = _maybe_cache(arg, format, cache, convert_listlike)\n",
      "C:\\Users\\kisho\\anaconda3\\lib\\site-packages\\pandas\\core\\tools\\datetimes.py:1047: UserWarning: Parsing '13-03-2016' in DD/MM/YYYY format. Provide format or specify infer_datetime_format=True for consistent parsing.\n",
      "  cache_array = _maybe_cache(arg, format, cache, convert_listlike)\n",
      "C:\\Users\\kisho\\anaconda3\\lib\\site-packages\\pandas\\core\\tools\\datetimes.py:1047: UserWarning: Parsing '28-02-2016' in DD/MM/YYYY format. Provide format or specify infer_datetime_format=True for consistent parsing.\n",
      "  cache_array = _maybe_cache(arg, format, cache, convert_listlike)\n",
      "C:\\Users\\kisho\\anaconda3\\lib\\site-packages\\pandas\\core\\tools\\datetimes.py:1047: UserWarning: Parsing '21-02-2016' in DD/MM/YYYY format. Provide format or specify infer_datetime_format=True for consistent parsing.\n",
      "  cache_array = _maybe_cache(arg, format, cache, convert_listlike)\n",
      "C:\\Users\\kisho\\anaconda3\\lib\\site-packages\\pandas\\core\\tools\\datetimes.py:1047: UserWarning: Parsing '14-02-2016' in DD/MM/YYYY format. Provide format or specify infer_datetime_format=True for consistent parsing.\n",
      "  cache_array = _maybe_cache(arg, format, cache, convert_listlike)\n",
      "C:\\Users\\kisho\\anaconda3\\lib\\site-packages\\pandas\\core\\tools\\datetimes.py:1047: UserWarning: Parsing '31-01-2016' in DD/MM/YYYY format. Provide format or specify infer_datetime_format=True for consistent parsing.\n",
      "  cache_array = _maybe_cache(arg, format, cache, convert_listlike)\n",
      "C:\\Users\\kisho\\anaconda3\\lib\\site-packages\\pandas\\core\\tools\\datetimes.py:1047: UserWarning: Parsing '29-05-2016' in DD/MM/YYYY format. Provide format or specify infer_datetime_format=True for consistent parsing.\n",
      "  cache_array = _maybe_cache(arg, format, cache, convert_listlike)\n",
      "C:\\Users\\kisho\\anaconda3\\lib\\site-packages\\pandas\\core\\tools\\datetimes.py:1047: UserWarning: Parsing '22-05-2016' in DD/MM/YYYY format. Provide format or specify infer_datetime_format=True for consistent parsing.\n",
      "  cache_array = _maybe_cache(arg, format, cache, convert_listlike)\n",
      "C:\\Users\\kisho\\anaconda3\\lib\\site-packages\\pandas\\core\\tools\\datetimes.py:1047: UserWarning: Parsing '15-05-2016' in DD/MM/YYYY format. Provide format or specify infer_datetime_format=True for consistent parsing.\n",
      "  cache_array = _maybe_cache(arg, format, cache, convert_listlike)\n",
      "C:\\Users\\kisho\\anaconda3\\lib\\site-packages\\pandas\\core\\tools\\datetimes.py:1047: UserWarning: Parsing '24-01-2016' in DD/MM/YYYY format. Provide format or specify infer_datetime_format=True for consistent parsing.\n",
      "  cache_array = _maybe_cache(arg, format, cache, convert_listlike)\n",
      "C:\\Users\\kisho\\anaconda3\\lib\\site-packages\\pandas\\core\\tools\\datetimes.py:1047: UserWarning: Parsing '17-01-2016' in DD/MM/YYYY format. Provide format or specify infer_datetime_format=True for consistent parsing.\n",
      "  cache_array = _maybe_cache(arg, format, cache, convert_listlike)\n",
      "C:\\Users\\kisho\\anaconda3\\lib\\site-packages\\pandas\\core\\tools\\datetimes.py:1047: UserWarning: Parsing '28-08-2016' in DD/MM/YYYY format. Provide format or specify infer_datetime_format=True for consistent parsing.\n",
      "  cache_array = _maybe_cache(arg, format, cache, convert_listlike)\n",
      "C:\\Users\\kisho\\anaconda3\\lib\\site-packages\\pandas\\core\\tools\\datetimes.py:1047: UserWarning: Parsing '21-08-2016' in DD/MM/YYYY format. Provide format or specify infer_datetime_format=True for consistent parsing.\n",
      "  cache_array = _maybe_cache(arg, format, cache, convert_listlike)\n",
      "C:\\Users\\kisho\\anaconda3\\lib\\site-packages\\pandas\\core\\tools\\datetimes.py:1047: UserWarning: Parsing '14-08-2016' in DD/MM/YYYY format. Provide format or specify infer_datetime_format=True for consistent parsing.\n",
      "  cache_array = _maybe_cache(arg, format, cache, convert_listlike)\n",
      "C:\\Users\\kisho\\anaconda3\\lib\\site-packages\\pandas\\core\\tools\\datetimes.py:1047: UserWarning: Parsing '31-07-2016' in DD/MM/YYYY format. Provide format or specify infer_datetime_format=True for consistent parsing.\n",
      "  cache_array = _maybe_cache(arg, format, cache, convert_listlike)\n",
      "C:\\Users\\kisho\\anaconda3\\lib\\site-packages\\pandas\\core\\tools\\datetimes.py:1047: UserWarning: Parsing '24-07-2016' in DD/MM/YYYY format. Provide format or specify infer_datetime_format=True for consistent parsing.\n",
      "  cache_array = _maybe_cache(arg, format, cache, convert_listlike)\n",
      "C:\\Users\\kisho\\anaconda3\\lib\\site-packages\\pandas\\core\\tools\\datetimes.py:1047: UserWarning: Parsing '17-07-2016' in DD/MM/YYYY format. Provide format or specify infer_datetime_format=True for consistent parsing.\n",
      "  cache_array = _maybe_cache(arg, format, cache, convert_listlike)\n",
      "C:\\Users\\kisho\\anaconda3\\lib\\site-packages\\pandas\\core\\tools\\datetimes.py:1047: UserWarning: Parsing '26-06-2016' in DD/MM/YYYY format. Provide format or specify infer_datetime_format=True for consistent parsing.\n",
      "  cache_array = _maybe_cache(arg, format, cache, convert_listlike)\n",
      "C:\\Users\\kisho\\anaconda3\\lib\\site-packages\\pandas\\core\\tools\\datetimes.py:1047: UserWarning: Parsing '19-06-2016' in DD/MM/YYYY format. Provide format or specify infer_datetime_format=True for consistent parsing.\n",
      "  cache_array = _maybe_cache(arg, format, cache, convert_listlike)\n"
     ]
    },
    {
     "data": {
      "text/plain": [
       "Date            datetime64[ns]\n",
       "AveragePrice           float64\n",
       "Total Volume           float64\n",
       "4046                   float64\n",
       "4225                   float64\n",
       "4770                   float64\n",
       "Total Bags             float64\n",
       "Small Bags             float64\n",
       "Large Bags             float64\n",
       "XLarge Bags            float64\n",
       "type                    object\n",
       "year                   float64\n",
       "region                  object\n",
       "dtype: object"
      ]
     },
     "execution_count": 15,
     "metadata": {},
     "output_type": "execute_result"
    }
   ],
   "source": [
    "avocado_ds_work_file[\"Date\"] = pd.to_datetime(avocado_ds_work_file[\"Date\"])\n",
    "avocado_ds_work_file.dtypes"
   ]
  },
  {
   "cell_type": "code",
   "execution_count": 16,
   "id": "be5cbc7e",
   "metadata": {},
   "outputs": [],
   "source": [
    "# updating original files\n",
    "avocado_ds = avocado_ds_work_file.copy()"
   ]
  },
  {
   "cell_type": "code",
   "execution_count": 17,
   "id": "d680a95e",
   "metadata": {},
   "outputs": [],
   "source": [
    "# updating original files\n",
    "avocado_ds = avocado_ds_work_file.copy()"
   ]
  },
  {
   "cell_type": "code",
   "execution_count": 18,
   "id": "5195f6e5",
   "metadata": {},
   "outputs": [
    {
     "data": {
      "text/html": [
       "<div>\n",
       "<style scoped>\n",
       "    .dataframe tbody tr th:only-of-type {\n",
       "        vertical-align: middle;\n",
       "    }\n",
       "\n",
       "    .dataframe tbody tr th {\n",
       "        vertical-align: top;\n",
       "    }\n",
       "\n",
       "    .dataframe thead th {\n",
       "        text-align: right;\n",
       "    }\n",
       "</style>\n",
       "<table border=\"1\" class=\"dataframe\">\n",
       "  <thead>\n",
       "    <tr style=\"text-align: right;\">\n",
       "      <th></th>\n",
       "      <th>type</th>\n",
       "      <th>region</th>\n",
       "    </tr>\n",
       "  </thead>\n",
       "  <tbody>\n",
       "    <tr>\n",
       "      <th>count</th>\n",
       "      <td>1517</td>\n",
       "      <td>1517</td>\n",
       "    </tr>\n",
       "    <tr>\n",
       "      <th>unique</th>\n",
       "      <td>1</td>\n",
       "      <td>51</td>\n",
       "    </tr>\n",
       "    <tr>\n",
       "      <th>top</th>\n",
       "      <td>conventional</td>\n",
       "      <td>California</td>\n",
       "    </tr>\n",
       "    <tr>\n",
       "      <th>freq</th>\n",
       "      <td>1517</td>\n",
       "      <td>76</td>\n",
       "    </tr>\n",
       "  </tbody>\n",
       "</table>\n",
       "</div>"
      ],
      "text/plain": [
       "                type      region\n",
       "count           1517        1517\n",
       "unique             1          51\n",
       "top     conventional  California\n",
       "freq            1517          76"
      ]
     },
     "execution_count": 18,
     "metadata": {},
     "output_type": "execute_result"
    }
   ],
   "source": [
    "avocado_ds.select_dtypes(include=\"object\").describe()"
   ]
  },
  {
   "cell_type": "markdown",
   "id": "65cf97f7",
   "metadata": {},
   "source": [
    "# EDA"
   ]
  },
  {
   "cell_type": "code",
   "execution_count": 19,
   "id": "1d50a2bb",
   "metadata": {},
   "outputs": [
    {
     "data": {
      "image/png": "[encoded data removed]",
      "text/plain": [
       "<Figure size 1080x1080 with 12 Axes>"
      ]
     },
     "metadata": {
      "needs_background": "light"
     },
     "output_type": "display_data"
    }
   ],
   "source": [
    "avocado_ds.select_dtypes(exclude=\"object\").hist(figsize= (15,15)); "
   ]
  },
  {
   "cell_type": "code",
   "execution_count": 20,
   "id": "77fa3bdf",
   "metadata": {},
   "outputs": [
    {
     "data": {
      "text/html": [
       "<div>\n",
       "<style scoped>\n",
       "    .dataframe tbody tr th:only-of-type {\n",
       "        vertical-align: middle;\n",
       "    }\n",
       "\n",
       "    .dataframe tbody tr th {\n",
       "        vertical-align: top;\n",
       "    }\n",
       "\n",
       "    .dataframe thead th {\n",
       "        text-align: right;\n",
       "    }\n",
       "</style>\n",
       "<table border=\"1\" class=\"dataframe\">\n",
       "  <thead>\n",
       "    <tr style=\"text-align: right;\">\n",
       "      <th></th>\n",
       "      <th>Date</th>\n",
       "      <th>AveragePrice</th>\n",
       "      <th>Total Volume</th>\n",
       "      <th>PLU_4046</th>\n",
       "      <th>PLU_4225</th>\n",
       "      <th>PLU_4770</th>\n",
       "      <th>Total Bags</th>\n",
       "      <th>Small Bags</th>\n",
       "      <th>Large Bags</th>\n",
       "      <th>XLarge Bags</th>\n",
       "      <th>type</th>\n",
       "      <th>year</th>\n",
       "      <th>region</th>\n",
       "    </tr>\n",
       "  </thead>\n",
       "  <tbody>\n",
       "    <tr>\n",
       "      <th>0</th>\n",
       "      <td>2015-12-27</td>\n",
       "      <td>1.33</td>\n",
       "      <td>64236.62</td>\n",
       "      <td>1036.74</td>\n",
       "      <td>54454.85</td>\n",
       "      <td>48.16</td>\n",
       "      <td>8696.87</td>\n",
       "      <td>8603.62</td>\n",
       "      <td>93.25</td>\n",
       "      <td>0.0</td>\n",
       "      <td>conventional</td>\n",
       "      <td>2015.0</td>\n",
       "      <td>Albany</td>\n",
       "    </tr>\n",
       "    <tr>\n",
       "      <th>1</th>\n",
       "      <td>2015-12-20</td>\n",
       "      <td>1.35</td>\n",
       "      <td>54876.98</td>\n",
       "      <td>674.28</td>\n",
       "      <td>44638.81</td>\n",
       "      <td>58.33</td>\n",
       "      <td>9505.56</td>\n",
       "      <td>9408.07</td>\n",
       "      <td>97.49</td>\n",
       "      <td>0.0</td>\n",
       "      <td>conventional</td>\n",
       "      <td>2015.0</td>\n",
       "      <td>Albany</td>\n",
       "    </tr>\n",
       "    <tr>\n",
       "      <th>2</th>\n",
       "      <td>2015-12-13</td>\n",
       "      <td>0.93</td>\n",
       "      <td>118220.22</td>\n",
       "      <td>794.70</td>\n",
       "      <td>109149.67</td>\n",
       "      <td>130.50</td>\n",
       "      <td>8145.35</td>\n",
       "      <td>8042.21</td>\n",
       "      <td>103.14</td>\n",
       "      <td>0.0</td>\n",
       "      <td>conventional</td>\n",
       "      <td>2015.0</td>\n",
       "      <td>Albany</td>\n",
       "    </tr>\n",
       "    <tr>\n",
       "      <th>3</th>\n",
       "      <td>2015-06-12</td>\n",
       "      <td>1.08</td>\n",
       "      <td>78992.15</td>\n",
       "      <td>1132.00</td>\n",
       "      <td>71976.41</td>\n",
       "      <td>72.58</td>\n",
       "      <td>5811.16</td>\n",
       "      <td>5677.40</td>\n",
       "      <td>133.76</td>\n",
       "      <td>0.0</td>\n",
       "      <td>conventional</td>\n",
       "      <td>2015.0</td>\n",
       "      <td>Albany</td>\n",
       "    </tr>\n",
       "    <tr>\n",
       "      <th>4</th>\n",
       "      <td>2015-11-29</td>\n",
       "      <td>1.28</td>\n",
       "      <td>51039.60</td>\n",
       "      <td>941.48</td>\n",
       "      <td>43838.39</td>\n",
       "      <td>75.78</td>\n",
       "      <td>6183.95</td>\n",
       "      <td>5986.26</td>\n",
       "      <td>197.69</td>\n",
       "      <td>0.0</td>\n",
       "      <td>conventional</td>\n",
       "      <td>2015.0</td>\n",
       "      <td>Albany</td>\n",
       "    </tr>\n",
       "  </tbody>\n",
       "</table>\n",
       "</div>"
      ],
      "text/plain": [
       "        Date  AveragePrice  Total Volume  PLU_4046   PLU_4225  PLU_4770  \\\n",
       "0 2015-12-27          1.33      64236.62   1036.74   54454.85     48.16   \n",
       "1 2015-12-20          1.35      54876.98    674.28   44638.81     58.33   \n",
       "2 2015-12-13          0.93     118220.22    794.70  109149.67    130.50   \n",
       "3 2015-06-12          1.08      78992.15   1132.00   71976.41     72.58   \n",
       "4 2015-11-29          1.28      51039.60    941.48   43838.39     75.78   \n",
       "\n",
       "   Total Bags  Small Bags  Large Bags  XLarge Bags          type    year  \\\n",
       "0     8696.87     8603.62       93.25          0.0  conventional  2015.0   \n",
       "1     9505.56     9408.07       97.49          0.0  conventional  2015.0   \n",
       "2     8145.35     8042.21      103.14          0.0  conventional  2015.0   \n",
       "3     5811.16     5677.40      133.76          0.0  conventional  2015.0   \n",
       "4     6183.95     5986.26      197.69          0.0  conventional  2015.0   \n",
       "\n",
       "   region  \n",
       "0  Albany  \n",
       "1  Albany  \n",
       "2  Albany  \n",
       "3  Albany  \n",
       "4  Albany  "
      ]
     },
     "execution_count": 20,
     "metadata": {},
     "output_type": "execute_result"
    }
   ],
   "source": [
    "avocado_ds.rename(columns={\"4046\":\"PLU_4046\",\"4225\":\"PLU_4225\",\"4770\":\"PLU_4770\"},inplace=True)\n",
    "avocado_ds.head()"
   ]
  },
  {
   "cell_type": "code",
   "execution_count": 23,
   "id": "bbf94a26",
   "metadata": {},
   "outputs": [],
   "source": [
    "num_data = avocado_ds[[\"Total Volume\",\"PLU_4046\",\"PLU_4225\",\"PLU_4770\",\"Total Bags\",\"Small Bags\",\"Large Bags\",\"XLarge Bags\"]]"
   ]
  },
  {
   "cell_type": "code",
   "execution_count": 24,
   "id": "106915cb",
   "metadata": {},
   "outputs": [
    {
     "data": {
      "text/plain": [
       "Total Volume    6.200138\n",
       "PLU_4046        6.051830\n",
       "PLU_4225        6.394926\n",
       "PLU_4770        5.405164\n",
       "Total Bags      5.366378\n",
       "Small Bags      5.355185\n",
       "Large Bags      5.144495\n",
       "XLarge Bags     5.775077\n",
       "dtype: float64"
      ]
     },
     "execution_count": 24,
     "metadata": {},
     "output_type": "execute_result"
    }
   ],
   "source": [
    "# checking the skewness\n",
    "num_data.skew()"
   ]
  },
  {
   "cell_type": "code",
   "execution_count": 25,
   "id": "e678af5f",
   "metadata": {},
   "outputs": [],
   "source": [
    "avocado_ds_analysis_data = avocado_ds.copy()"
   ]
  },
  {
   "cell_type": "code",
   "execution_count": 26,
   "id": "acdb0eb3",
   "metadata": {},
   "outputs": [
    {
     "data": {
      "text/plain": [
       "Date            datetime64[ns]\n",
       "AveragePrice           float64\n",
       "Total Volume           float64\n",
       "PLU_4046               float64\n",
       "PLU_4225               float64\n",
       "PLU_4770               float64\n",
       "Total Bags             float64\n",
       "Small Bags             float64\n",
       "Large Bags             float64\n",
       "XLarge Bags            float64\n",
       "type                    object\n",
       "year                   float64\n",
       "region                  object\n",
       "dtype: object"
      ]
     },
     "execution_count": 26,
     "metadata": {},
     "output_type": "execute_result"
    }
   ],
   "source": [
    "avocado_ds_analysis_data[\"Date\"] = pd.to_datetime(avocado_ds_analysis_data[\"Date\"],format = \"%d/%m/%Y\") \n",
    "avocado_ds_analysis_data.dtypes"
   ]
  },
  {
   "cell_type": "code",
   "execution_count": 27,
   "id": "0b63ed50",
   "metadata": {
    "scrolled": true
   },
   "outputs": [
    {
     "name": "stderr",
     "output_type": "stream",
     "text": [
      "C:\\Users\\kisho\\AppData\\Local\\Temp\\ipykernel_43156\\2166925251.py:4: FutureWarning: Series.dt.weekofyear and Series.dt.week have been deprecated. Please use Series.dt.isocalendar().week instead.\n",
      "  avocado_ds_analysis_data[\"week\"] =  avocado_ds_analysis_data[\"Date\"].dt.week\n"
     ]
    },
    {
     "data": {
      "text/html": [
       "<div>\n",
       "<style scoped>\n",
       "    .dataframe tbody tr th:only-of-type {\n",
       "        vertical-align: middle;\n",
       "    }\n",
       "\n",
       "    .dataframe tbody tr th {\n",
       "        vertical-align: top;\n",
       "    }\n",
       "\n",
       "    .dataframe thead th {\n",
       "        text-align: right;\n",
       "    }\n",
       "</style>\n",
       "<table border=\"1\" class=\"dataframe\">\n",
       "  <thead>\n",
       "    <tr style=\"text-align: right;\">\n",
       "      <th></th>\n",
       "      <th>Date</th>\n",
       "      <th>AveragePrice</th>\n",
       "      <th>Total Volume</th>\n",
       "      <th>PLU_4046</th>\n",
       "      <th>PLU_4225</th>\n",
       "      <th>PLU_4770</th>\n",
       "      <th>Total Bags</th>\n",
       "      <th>Small Bags</th>\n",
       "      <th>Large Bags</th>\n",
       "      <th>XLarge Bags</th>\n",
       "      <th>type</th>\n",
       "      <th>year</th>\n",
       "      <th>region</th>\n",
       "      <th>Day</th>\n",
       "      <th>Month</th>\n",
       "      <th>week</th>\n",
       "    </tr>\n",
       "  </thead>\n",
       "  <tbody>\n",
       "    <tr>\n",
       "      <th>0</th>\n",
       "      <td>2015-12-27</td>\n",
       "      <td>1.33</td>\n",
       "      <td>64236.62</td>\n",
       "      <td>1036.74</td>\n",
       "      <td>54454.85</td>\n",
       "      <td>48.16</td>\n",
       "      <td>8696.87</td>\n",
       "      <td>8603.62</td>\n",
       "      <td>93.25</td>\n",
       "      <td>0.0</td>\n",
       "      <td>conventional</td>\n",
       "      <td>2015</td>\n",
       "      <td>Albany</td>\n",
       "      <td>27</td>\n",
       "      <td>12</td>\n",
       "      <td>52</td>\n",
       "    </tr>\n",
       "    <tr>\n",
       "      <th>1</th>\n",
       "      <td>2015-12-20</td>\n",
       "      <td>1.35</td>\n",
       "      <td>54876.98</td>\n",
       "      <td>674.28</td>\n",
       "      <td>44638.81</td>\n",
       "      <td>58.33</td>\n",
       "      <td>9505.56</td>\n",
       "      <td>9408.07</td>\n",
       "      <td>97.49</td>\n",
       "      <td>0.0</td>\n",
       "      <td>conventional</td>\n",
       "      <td>2015</td>\n",
       "      <td>Albany</td>\n",
       "      <td>20</td>\n",
       "      <td>12</td>\n",
       "      <td>51</td>\n",
       "    </tr>\n",
       "    <tr>\n",
       "      <th>2</th>\n",
       "      <td>2015-12-13</td>\n",
       "      <td>0.93</td>\n",
       "      <td>118220.22</td>\n",
       "      <td>794.70</td>\n",
       "      <td>109149.67</td>\n",
       "      <td>130.50</td>\n",
       "      <td>8145.35</td>\n",
       "      <td>8042.21</td>\n",
       "      <td>103.14</td>\n",
       "      <td>0.0</td>\n",
       "      <td>conventional</td>\n",
       "      <td>2015</td>\n",
       "      <td>Albany</td>\n",
       "      <td>13</td>\n",
       "      <td>12</td>\n",
       "      <td>50</td>\n",
       "    </tr>\n",
       "    <tr>\n",
       "      <th>3</th>\n",
       "      <td>2015-06-12</td>\n",
       "      <td>1.08</td>\n",
       "      <td>78992.15</td>\n",
       "      <td>1132.00</td>\n",
       "      <td>71976.41</td>\n",
       "      <td>72.58</td>\n",
       "      <td>5811.16</td>\n",
       "      <td>5677.40</td>\n",
       "      <td>133.76</td>\n",
       "      <td>0.0</td>\n",
       "      <td>conventional</td>\n",
       "      <td>2015</td>\n",
       "      <td>Albany</td>\n",
       "      <td>12</td>\n",
       "      <td>6</td>\n",
       "      <td>24</td>\n",
       "    </tr>\n",
       "    <tr>\n",
       "      <th>4</th>\n",
       "      <td>2015-11-29</td>\n",
       "      <td>1.28</td>\n",
       "      <td>51039.60</td>\n",
       "      <td>941.48</td>\n",
       "      <td>43838.39</td>\n",
       "      <td>75.78</td>\n",
       "      <td>6183.95</td>\n",
       "      <td>5986.26</td>\n",
       "      <td>197.69</td>\n",
       "      <td>0.0</td>\n",
       "      <td>conventional</td>\n",
       "      <td>2015</td>\n",
       "      <td>Albany</td>\n",
       "      <td>29</td>\n",
       "      <td>11</td>\n",
       "      <td>48</td>\n",
       "    </tr>\n",
       "  </tbody>\n",
       "</table>\n",
       "</div>"
      ],
      "text/plain": [
       "        Date  AveragePrice  Total Volume  PLU_4046   PLU_4225  PLU_4770  \\\n",
       "0 2015-12-27          1.33      64236.62   1036.74   54454.85     48.16   \n",
       "1 2015-12-20          1.35      54876.98    674.28   44638.81     58.33   \n",
       "2 2015-12-13          0.93     118220.22    794.70  109149.67    130.50   \n",
       "3 2015-06-12          1.08      78992.15   1132.00   71976.41     72.58   \n",
       "4 2015-11-29          1.28      51039.60    941.48   43838.39     75.78   \n",
       "\n",
       "   Total Bags  Small Bags  Large Bags  XLarge Bags          type  year  \\\n",
       "0     8696.87     8603.62       93.25          0.0  conventional  2015   \n",
       "1     9505.56     9408.07       97.49          0.0  conventional  2015   \n",
       "2     8145.35     8042.21      103.14          0.0  conventional  2015   \n",
       "3     5811.16     5677.40      133.76          0.0  conventional  2015   \n",
       "4     6183.95     5986.26      197.69          0.0  conventional  2015   \n",
       "\n",
       "   region  Day  Month  week  \n",
       "0  Albany   27     12    52  \n",
       "1  Albany   20     12    51  \n",
       "2  Albany   13     12    50  \n",
       "3  Albany   12      6    24  \n",
       "4  Albany   29     11    48  "
      ]
     },
     "execution_count": 27,
     "metadata": {},
     "output_type": "execute_result"
    }
   ],
   "source": [
    "avocado_ds_analysis_data[\"Day\"] =  avocado_ds_analysis_data[\"Date\"].dt.day\n",
    "avocado_ds_analysis_data[\"year\"] =  avocado_ds_analysis_data[\"Date\"].dt.year\n",
    "avocado_ds_analysis_data[\"Month\"] =  avocado_ds_analysis_data[\"Date\"].dt.month\n",
    "avocado_ds_analysis_data[\"week\"] =  avocado_ds_analysis_data[\"Date\"].dt.week\n",
    "avocado_ds_analysis_data.head()"
   ]
  },
  {
   "cell_type": "code",
   "execution_count": 28,
   "id": "f1dddc99",
   "metadata": {},
   "outputs": [
    {
     "data": {
      "image/png": "[encoded data removed]",
      "text/plain": [
       "<Figure size 1080x576 with 2 Axes>"
      ]
     },
     "metadata": {
      "needs_background": "light"
     },
     "output_type": "display_data"
    }
   ],
   "source": [
    "plt.figure(figsize=(15,8))\n",
    "plt.subplot(221)\n",
    "sns.barplot(x = \"year\", y = \"Total Volume\", data = avocado_ds_analysis_data)\n",
    "plt.title(\"Year wise avocado sale\");\n",
    "\n",
    "plt.subplot(222)\n",
    "sns.barplot(x = \"year\", y = \"AveragePrice\", data = avocado_ds_analysis_data)\n",
    "plt.title(\"Year wise Aavocado price \");"
   ]
  },
  {
   "cell_type": "code",
   "execution_count": 29,
   "id": "b51ba7a6",
   "metadata": {},
   "outputs": [
    {
     "data": {
      "image/png": "[encoded data removed]",
      "text/plain": [
       "<Figure size 1440x720 with 2 Axes>"
      ]
     },
     "metadata": {
      "needs_background": "light"
     },
     "output_type": "display_data"
    }
   ],
   "source": [
    "plt.figure(figsize=(20,10))\n",
    "plt.subplot(211)\n",
    "sns.barplot(x = \"Day\", y = \"Total Volume\", data = avocado_ds_analysis_data,hue=\"year\")\n",
    "plt.title(\"Year wise day wise total avocado sold\");\n",
    "\n",
    "plt.subplot(212)\n",
    "sns.barplot(x = \"Day\", y = \"AveragePrice\", data = avocado_ds_analysis_data,hue=\"year\")\n",
    "plt.title(\"Year wise day wise Avr price\");"
   ]
  },
  {
   "cell_type": "code",
   "execution_count": 30,
   "id": "a5271663",
   "metadata": {},
   "outputs": [
    {
     "data": {
      "image/png": "[encoded data removed]",
      "text/plain": [
       "<Figure size 1440x720 with 2 Axes>"
      ]
     },
     "metadata": {
      "needs_background": "light"
     },
     "output_type": "display_data"
    }
   ],
   "source": [
    "plt.figure(figsize=(20,10))\n",
    "plt.subplot(211)\n",
    "sns.barplot(x = \"Month\", y = \"Total Volume\", data = avocado_ds_analysis_data,hue=\"year\")\n",
    "plt.title(\"Month wise total avocado sold\")\n",
    "\n",
    "plt.subplot(212)\n",
    "sns.barplot(x = \"Month\", y = \"AveragePrice\", data = avocado_ds_analysis_data,hue=\"year\")\n",
    "plt.title(\"Month wise avg price\");"
   ]
  },
  {
   "cell_type": "code",
   "execution_count": 31,
   "id": "ba711ef0",
   "metadata": {},
   "outputs": [
    {
     "data": {
      "text/plain": [
       "Text(0.5, 1.0, 'week wise avg price')"
      ]
     },
     "execution_count": 31,
     "metadata": {},
     "output_type": "execute_result"
    },
    {
     "data": {
      "image/png": "[encoded data removed]",
      "text/plain": [
       "<Figure size 1440x720 with 2 Axes>"
      ]
     },
     "metadata": {
      "needs_background": "light"
     },
     "output_type": "display_data"
    }
   ],
   "source": [
    "plt.figure(figsize=(20,10))\n",
    "plt.subplot(211)\n",
    "sns.barplot(x = \"week\", y = \"Total Volume\", data = avocado_ds_analysis_data,hue=\"year\")\n",
    "plt.title(\"year wise week wise total avocado sold\")\n",
    "\n",
    "plt.subplot(212)\n",
    "sns.barplot(x = \"week\", y = \"AveragePrice\", data = avocado_ds_analysis_data,hue=\"year\")\n",
    "plt.title(\"week wise avg price\")"
   ]
  },
  {
   "cell_type": "code",
   "execution_count": 32,
   "id": "4fa7d27c",
   "metadata": {},
   "outputs": [
    {
     "data": {
      "text/html": [
       "<div>\n",
       "<style scoped>\n",
       "    .dataframe tbody tr th:only-of-type {\n",
       "        vertical-align: middle;\n",
       "    }\n",
       "\n",
       "    .dataframe tbody tr th {\n",
       "        vertical-align: top;\n",
       "    }\n",
       "\n",
       "    .dataframe thead th {\n",
       "        text-align: right;\n",
       "    }\n",
       "</style>\n",
       "<table border=\"1\" class=\"dataframe\">\n",
       "  <thead>\n",
       "    <tr style=\"text-align: right;\">\n",
       "      <th></th>\n",
       "      <th>Total Volume</th>\n",
       "      <th>AveragePrice</th>\n",
       "    </tr>\n",
       "    <tr>\n",
       "      <th>region</th>\n",
       "      <th></th>\n",
       "      <th></th>\n",
       "    </tr>\n",
       "  </thead>\n",
       "  <tbody>\n",
       "    <tr>\n",
       "      <th>TotalUS</th>\n",
       "      <td>3.293714e+07</td>\n",
       "      <td>1.011600</td>\n",
       "    </tr>\n",
       "    <tr>\n",
       "      <th>California</th>\n",
       "      <td>6.035277e+06</td>\n",
       "      <td>1.055921</td>\n",
       "    </tr>\n",
       "    <tr>\n",
       "      <th>West</th>\n",
       "      <td>5.574939e+06</td>\n",
       "      <td>0.940833</td>\n",
       "    </tr>\n",
       "    <tr>\n",
       "      <th>SouthCentral</th>\n",
       "      <td>5.496995e+06</td>\n",
       "      <td>0.818718</td>\n",
       "    </tr>\n",
       "    <tr>\n",
       "      <th>Northeast</th>\n",
       "      <td>3.465864e+06</td>\n",
       "      <td>1.236667</td>\n",
       "    </tr>\n",
       "    <tr>\n",
       "      <th>GreatLakes</th>\n",
       "      <td>3.276358e+06</td>\n",
       "      <td>1.107222</td>\n",
       "    </tr>\n",
       "    <tr>\n",
       "      <th>Southeast</th>\n",
       "      <td>3.055239e+06</td>\n",
       "      <td>1.091111</td>\n",
       "    </tr>\n",
       "    <tr>\n",
       "      <th>LosAngeles</th>\n",
       "      <td>2.732180e+06</td>\n",
       "      <td>0.863333</td>\n",
       "    </tr>\n",
       "    <tr>\n",
       "      <th>Midsouth</th>\n",
       "      <td>2.355099e+06</td>\n",
       "      <td>1.081111</td>\n",
       "    </tr>\n",
       "    <tr>\n",
       "      <th>Plains</th>\n",
       "      <td>1.672975e+06</td>\n",
       "      <td>1.051667</td>\n",
       "    </tr>\n",
       "    <tr>\n",
       "      <th>NewYork</th>\n",
       "      <td>1.362973e+06</td>\n",
       "      <td>1.248636</td>\n",
       "    </tr>\n",
       "    <tr>\n",
       "      <th>DallasFtWorth</th>\n",
       "      <td>1.195363e+06</td>\n",
       "      <td>0.755882</td>\n",
       "    </tr>\n",
       "    <tr>\n",
       "      <th>Houston</th>\n",
       "      <td>1.115564e+06</td>\n",
       "      <td>0.780690</td>\n",
       "    </tr>\n",
       "    <tr>\n",
       "      <th>PhoenixTucson</th>\n",
       "      <td>1.088699e+06</td>\n",
       "      <td>0.659808</td>\n",
       "    </tr>\n",
       "    <tr>\n",
       "      <th>WestTexNewMexico</th>\n",
       "      <td>8.602926e+05</td>\n",
       "      <td>0.757407</td>\n",
       "    </tr>\n",
       "    <tr>\n",
       "      <th>SanFrancisco</th>\n",
       "      <td>8.501176e+05</td>\n",
       "      <td>1.150667</td>\n",
       "    </tr>\n",
       "    <tr>\n",
       "      <th>Chicago</th>\n",
       "      <td>8.118822e+05</td>\n",
       "      <td>1.214783</td>\n",
       "    </tr>\n",
       "    <tr>\n",
       "      <th>BaltimoreWashington</th>\n",
       "      <td>8.076442e+05</td>\n",
       "      <td>1.160923</td>\n",
       "    </tr>\n",
       "    <tr>\n",
       "      <th>Denver</th>\n",
       "      <td>7.176015e+05</td>\n",
       "      <td>1.080833</td>\n",
       "    </tr>\n",
       "    <tr>\n",
       "      <th>Boston</th>\n",
       "      <td>5.534586e+05</td>\n",
       "      <td>1.205484</td>\n",
       "    </tr>\n",
       "    <tr>\n",
       "      <th>SanDiego</th>\n",
       "      <td>5.013533e+05</td>\n",
       "      <td>0.993421</td>\n",
       "    </tr>\n",
       "    <tr>\n",
       "      <th>Portland</th>\n",
       "      <td>4.951845e+05</td>\n",
       "      <td>1.043667</td>\n",
       "    </tr>\n",
       "    <tr>\n",
       "      <th>Seattle</th>\n",
       "      <td>4.895311e+05</td>\n",
       "      <td>1.052222</td>\n",
       "    </tr>\n",
       "    <tr>\n",
       "      <th>MiamiFtLauderdale</th>\n",
       "      <td>4.713218e+05</td>\n",
       "      <td>1.176471</td>\n",
       "    </tr>\n",
       "    <tr>\n",
       "      <th>Atlanta</th>\n",
       "      <td>4.676372e+05</td>\n",
       "      <td>1.012037</td>\n",
       "    </tr>\n",
       "    <tr>\n",
       "      <th>NorthernNewEngland</th>\n",
       "      <td>3.959559e+05</td>\n",
       "      <td>1.111034</td>\n",
       "    </tr>\n",
       "    <tr>\n",
       "      <th>Philadelphia</th>\n",
       "      <td>3.849221e+05</td>\n",
       "      <td>1.293846</td>\n",
       "    </tr>\n",
       "    <tr>\n",
       "      <th>Detroit</th>\n",
       "      <td>3.390654e+05</td>\n",
       "      <td>1.041250</td>\n",
       "    </tr>\n",
       "    <tr>\n",
       "      <th>SouthCarolina</th>\n",
       "      <td>3.337852e+05</td>\n",
       "      <td>1.071250</td>\n",
       "    </tr>\n",
       "    <tr>\n",
       "      <th>Tampa</th>\n",
       "      <td>3.279430e+05</td>\n",
       "      <td>1.068824</td>\n",
       "    </tr>\n",
       "    <tr>\n",
       "      <th>Orlando</th>\n",
       "      <td>3.013391e+05</td>\n",
       "      <td>1.133333</td>\n",
       "    </tr>\n",
       "    <tr>\n",
       "      <th>LasVegas</th>\n",
       "      <td>2.790102e+05</td>\n",
       "      <td>1.041000</td>\n",
       "    </tr>\n",
       "    <tr>\n",
       "      <th>HartfordSpringfield</th>\n",
       "      <td>2.685772e+05</td>\n",
       "      <td>1.209231</td>\n",
       "    </tr>\n",
       "    <tr>\n",
       "      <th>RaleighGreensboro</th>\n",
       "      <td>2.405372e+05</td>\n",
       "      <td>1.166250</td>\n",
       "    </tr>\n",
       "    <tr>\n",
       "      <th>HarrisburgScranton</th>\n",
       "      <td>2.183198e+05</td>\n",
       "      <td>1.157368</td>\n",
       "    </tr>\n",
       "    <tr>\n",
       "      <th>RichmondNorfolk</th>\n",
       "      <td>1.967580e+05</td>\n",
       "      <td>1.004762</td>\n",
       "    </tr>\n",
       "    <tr>\n",
       "      <th>StLouis</th>\n",
       "      <td>1.944995e+05</td>\n",
       "      <td>1.260000</td>\n",
       "    </tr>\n",
       "    <tr>\n",
       "      <th>GrandRapids</th>\n",
       "      <td>1.908866e+05</td>\n",
       "      <td>1.136957</td>\n",
       "    </tr>\n",
       "    <tr>\n",
       "      <th>Charlotte</th>\n",
       "      <td>1.762782e+05</td>\n",
       "      <td>1.311613</td>\n",
       "    </tr>\n",
       "    <tr>\n",
       "      <th>Nashville</th>\n",
       "      <td>1.674714e+05</td>\n",
       "      <td>1.028400</td>\n",
       "    </tr>\n",
       "    <tr>\n",
       "      <th>Indianapolis</th>\n",
       "      <td>1.575043e+05</td>\n",
       "      <td>1.126250</td>\n",
       "    </tr>\n",
       "    <tr>\n",
       "      <th>Columbus</th>\n",
       "      <td>1.457604e+05</td>\n",
       "      <td>1.012553</td>\n",
       "    </tr>\n",
       "    <tr>\n",
       "      <th>Jacksonville</th>\n",
       "      <td>1.380222e+05</td>\n",
       "      <td>1.113659</td>\n",
       "    </tr>\n",
       "    <tr>\n",
       "      <th>BuffaloRochester</th>\n",
       "      <td>1.321844e+05</td>\n",
       "      <td>1.301569</td>\n",
       "    </tr>\n",
       "    <tr>\n",
       "      <th>Roanoke</th>\n",
       "      <td>1.308864e+05</td>\n",
       "      <td>1.096471</td>\n",
       "    </tr>\n",
       "    <tr>\n",
       "      <th>Pittsburgh</th>\n",
       "      <td>8.143082e+04</td>\n",
       "      <td>1.178636</td>\n",
       "    </tr>\n",
       "    <tr>\n",
       "      <th>Boise</th>\n",
       "      <td>8.104617e+04</td>\n",
       "      <td>0.974923</td>\n",
       "    </tr>\n",
       "    <tr>\n",
       "      <th>Louisville</th>\n",
       "      <td>7.764284e+04</td>\n",
       "      <td>1.042941</td>\n",
       "    </tr>\n",
       "    <tr>\n",
       "      <th>Spokane</th>\n",
       "      <td>7.718453e+04</td>\n",
       "      <td>1.096122</td>\n",
       "    </tr>\n",
       "    <tr>\n",
       "      <th>Albany</th>\n",
       "      <td>7.629020e+04</td>\n",
       "      <td>1.238657</td>\n",
       "    </tr>\n",
       "    <tr>\n",
       "      <th>Syracuse</th>\n",
       "      <td>4.857841e+04</td>\n",
       "      <td>1.347368</td>\n",
       "    </tr>\n",
       "  </tbody>\n",
       "</table>\n",
       "</div>"
      ],
      "text/plain": [
       "                     Total Volume  AveragePrice\n",
       "region                                         \n",
       "TotalUS              3.293714e+07      1.011600\n",
       "California           6.035277e+06      1.055921\n",
       "West                 5.574939e+06      0.940833\n",
       "SouthCentral         5.496995e+06      0.818718\n",
       "Northeast            3.465864e+06      1.236667\n",
       "GreatLakes           3.276358e+06      1.107222\n",
       "Southeast            3.055239e+06      1.091111\n",
       "LosAngeles           2.732180e+06      0.863333\n",
       "Midsouth             2.355099e+06      1.081111\n",
       "Plains               1.672975e+06      1.051667\n",
       "NewYork              1.362973e+06      1.248636\n",
       "DallasFtWorth        1.195363e+06      0.755882\n",
       "Houston              1.115564e+06      0.780690\n",
       "PhoenixTucson        1.088699e+06      0.659808\n",
       "WestTexNewMexico     8.602926e+05      0.757407\n",
       "SanFrancisco         8.501176e+05      1.150667\n",
       "Chicago              8.118822e+05      1.214783\n",
       "BaltimoreWashington  8.076442e+05      1.160923\n",
       "Denver               7.176015e+05      1.080833\n",
       "Boston               5.534586e+05      1.205484\n",
       "SanDiego             5.013533e+05      0.993421\n",
       "Portland             4.951845e+05      1.043667\n",
       "Seattle              4.895311e+05      1.052222\n",
       "MiamiFtLauderdale    4.713218e+05      1.176471\n",
       "Atlanta              4.676372e+05      1.012037\n",
       "NorthernNewEngland   3.959559e+05      1.111034\n",
       "Philadelphia         3.849221e+05      1.293846\n",
       "Detroit              3.390654e+05      1.041250\n",
       "SouthCarolina        3.337852e+05      1.071250\n",
       "Tampa                3.279430e+05      1.068824\n",
       "Orlando              3.013391e+05      1.133333\n",
       "LasVegas             2.790102e+05      1.041000\n",
       "HartfordSpringfield  2.685772e+05      1.209231\n",
       "RaleighGreensboro    2.405372e+05      1.166250\n",
       "HarrisburgScranton   2.183198e+05      1.157368\n",
       "RichmondNorfolk      1.967580e+05      1.004762\n",
       "StLouis              1.944995e+05      1.260000\n",
       "GrandRapids          1.908866e+05      1.136957\n",
       "Charlotte            1.762782e+05      1.311613\n",
       "Nashville            1.674714e+05      1.028400\n",
       "Indianapolis         1.575043e+05      1.126250\n",
       "Columbus             1.457604e+05      1.012553\n",
       "Jacksonville         1.380222e+05      1.113659\n",
       "BuffaloRochester     1.321844e+05      1.301569\n",
       "Roanoke              1.308864e+05      1.096471\n",
       "Pittsburgh           8.143082e+04      1.178636\n",
       "Boise                8.104617e+04      0.974923\n",
       "Louisville           7.764284e+04      1.042941\n",
       "Spokane              7.718453e+04      1.096122\n",
       "Albany               7.629020e+04      1.238657\n",
       "Syracuse             4.857841e+04      1.347368"
      ]
     },
     "execution_count": 32,
     "metadata": {},
     "output_type": "execute_result"
    }
   ],
   "source": [
    "avocado_ds.groupby(\"region\")[[\"Total Volume\",\"AveragePrice\"]].mean().sort_values(by =\"Total Volume\" ,ascending = False)"
   ]
  },
  {
   "cell_type": "code",
   "execution_count": 33,
   "id": "46ea280e",
   "metadata": {},
   "outputs": [],
   "source": [
    "avocado_ds.drop(columns=[\"Small Bags\",\"Large Bags\"],axis = 1, inplace = True)\n"
   ]
  },
  {
   "cell_type": "code",
   "execution_count": 34,
   "id": "e8459680",
   "metadata": {},
   "outputs": [
    {
     "data": {
      "image/png": "[encoded data removed]",
      "text/plain": [
       "<Figure size 1080x720 with 9 Axes>"
      ]
     },
     "metadata": {
      "needs_background": "light"
     },
     "output_type": "display_data"
    }
   ],
   "source": [
    "num_data = avocado_ds_analysis_data[[\"Total Volume\",\"PLU_4046\"\t,\"PLU_4225\",\t\"PLU_4770\",\"Total Bags\",\"XLarge Bags\"]]\n",
    "\n",
    "num_data.plot(kind = \"box\", subplots = True, layout=(3,3), figsize = (15,10));\n"
   ]
  },
  {
   "cell_type": "markdown",
   "id": "4d9a608a",
   "metadata": {},
   "source": [
    "# Label Encoding\n"
   ]
  },
  {
   "cell_type": "code",
   "execution_count": 35,
   "id": "d03af0f9",
   "metadata": {},
   "outputs": [],
   "source": [
    "from sklearn.preprocessing import LabelEncoder\n",
    "from scipy.stats import zscore\n",
    "\n",
    "lb = LabelEncoder()\n",
    "lb.fit(avocado_ds[\"region\"])\n",
    "\n",
    "avocado_ds[\"region\"] = lb.transform(avocado_ds[\"region\"])"
   ]
  },
  {
   "cell_type": "code",
   "execution_count": 36,
   "id": "577dbb50",
   "metadata": {},
   "outputs": [
    {
     "data": {
      "text/html": [
       "<div>\n",
       "<style scoped>\n",
       "    .dataframe tbody tr th:only-of-type {\n",
       "        vertical-align: middle;\n",
       "    }\n",
       "\n",
       "    .dataframe tbody tr th {\n",
       "        vertical-align: top;\n",
       "    }\n",
       "\n",
       "    .dataframe thead th {\n",
       "        text-align: right;\n",
       "    }\n",
       "</style>\n",
       "<table border=\"1\" class=\"dataframe\">\n",
       "  <thead>\n",
       "    <tr style=\"text-align: right;\">\n",
       "      <th></th>\n",
       "      <th>Date</th>\n",
       "      <th>AveragePrice</th>\n",
       "      <th>Total Volume</th>\n",
       "      <th>PLU_4046</th>\n",
       "      <th>PLU_4225</th>\n",
       "      <th>PLU_4770</th>\n",
       "      <th>Total Bags</th>\n",
       "      <th>XLarge Bags</th>\n",
       "      <th>type</th>\n",
       "      <th>year</th>\n",
       "      <th>region</th>\n",
       "    </tr>\n",
       "  </thead>\n",
       "  <tbody>\n",
       "    <tr>\n",
       "      <th>0</th>\n",
       "      <td>2015-12-27</td>\n",
       "      <td>1.33</td>\n",
       "      <td>64236.62</td>\n",
       "      <td>1036.74</td>\n",
       "      <td>54454.85</td>\n",
       "      <td>48.16</td>\n",
       "      <td>8696.87</td>\n",
       "      <td>0.0</td>\n",
       "      <td>conventional</td>\n",
       "      <td>2015.0</td>\n",
       "      <td>0</td>\n",
       "    </tr>\n",
       "    <tr>\n",
       "      <th>1</th>\n",
       "      <td>2015-12-20</td>\n",
       "      <td>1.35</td>\n",
       "      <td>54876.98</td>\n",
       "      <td>674.28</td>\n",
       "      <td>44638.81</td>\n",
       "      <td>58.33</td>\n",
       "      <td>9505.56</td>\n",
       "      <td>0.0</td>\n",
       "      <td>conventional</td>\n",
       "      <td>2015.0</td>\n",
       "      <td>0</td>\n",
       "    </tr>\n",
       "    <tr>\n",
       "      <th>2</th>\n",
       "      <td>2015-12-13</td>\n",
       "      <td>0.93</td>\n",
       "      <td>118220.22</td>\n",
       "      <td>794.70</td>\n",
       "      <td>109149.67</td>\n",
       "      <td>130.50</td>\n",
       "      <td>8145.35</td>\n",
       "      <td>0.0</td>\n",
       "      <td>conventional</td>\n",
       "      <td>2015.0</td>\n",
       "      <td>0</td>\n",
       "    </tr>\n",
       "    <tr>\n",
       "      <th>3</th>\n",
       "      <td>2015-06-12</td>\n",
       "      <td>1.08</td>\n",
       "      <td>78992.15</td>\n",
       "      <td>1132.00</td>\n",
       "      <td>71976.41</td>\n",
       "      <td>72.58</td>\n",
       "      <td>5811.16</td>\n",
       "      <td>0.0</td>\n",
       "      <td>conventional</td>\n",
       "      <td>2015.0</td>\n",
       "      <td>0</td>\n",
       "    </tr>\n",
       "    <tr>\n",
       "      <th>4</th>\n",
       "      <td>2015-11-29</td>\n",
       "      <td>1.28</td>\n",
       "      <td>51039.60</td>\n",
       "      <td>941.48</td>\n",
       "      <td>43838.39</td>\n",
       "      <td>75.78</td>\n",
       "      <td>6183.95</td>\n",
       "      <td>0.0</td>\n",
       "      <td>conventional</td>\n",
       "      <td>2015.0</td>\n",
       "      <td>0</td>\n",
       "    </tr>\n",
       "  </tbody>\n",
       "</table>\n",
       "</div>"
      ],
      "text/plain": [
       "        Date  AveragePrice  Total Volume  PLU_4046   PLU_4225  PLU_4770  \\\n",
       "0 2015-12-27          1.33      64236.62   1036.74   54454.85     48.16   \n",
       "1 2015-12-20          1.35      54876.98    674.28   44638.81     58.33   \n",
       "2 2015-12-13          0.93     118220.22    794.70  109149.67    130.50   \n",
       "3 2015-06-12          1.08      78992.15   1132.00   71976.41     72.58   \n",
       "4 2015-11-29          1.28      51039.60    941.48   43838.39     75.78   \n",
       "\n",
       "   Total Bags  XLarge Bags          type    year  region  \n",
       "0     8696.87          0.0  conventional  2015.0       0  \n",
       "1     9505.56          0.0  conventional  2015.0       0  \n",
       "2     8145.35          0.0  conventional  2015.0       0  \n",
       "3     5811.16          0.0  conventional  2015.0       0  \n",
       "4     6183.95          0.0  conventional  2015.0       0  "
      ]
     },
     "execution_count": 36,
     "metadata": {},
     "output_type": "execute_result"
    }
   ],
   "source": [
    "avocado_ds.head()"
   ]
  },
  {
   "cell_type": "code",
   "execution_count": 37,
   "id": "89a2ecd8",
   "metadata": {},
   "outputs": [
    {
     "data": {
      "text/html": [
       "<div>\n",
       "<style scoped>\n",
       "    .dataframe tbody tr th:only-of-type {\n",
       "        vertical-align: middle;\n",
       "    }\n",
       "\n",
       "    .dataframe tbody tr th {\n",
       "        vertical-align: top;\n",
       "    }\n",
       "\n",
       "    .dataframe thead th {\n",
       "        text-align: right;\n",
       "    }\n",
       "</style>\n",
       "<table border=\"1\" class=\"dataframe\">\n",
       "  <thead>\n",
       "    <tr style=\"text-align: right;\">\n",
       "      <th></th>\n",
       "      <th>Date</th>\n",
       "      <th>AveragePrice</th>\n",
       "      <th>Total Volume</th>\n",
       "      <th>PLU_4046</th>\n",
       "      <th>PLU_4225</th>\n",
       "      <th>PLU_4770</th>\n",
       "      <th>Total Bags</th>\n",
       "      <th>XLarge Bags</th>\n",
       "      <th>type</th>\n",
       "      <th>year</th>\n",
       "      <th>region</th>\n",
       "    </tr>\n",
       "  </thead>\n",
       "  <tbody>\n",
       "    <tr>\n",
       "      <th>1507</th>\n",
       "      <td>2016-11-20</td>\n",
       "      <td>1.57</td>\n",
       "      <td>135608.11</td>\n",
       "      <td>44044.69</td>\n",
       "      <td>28907.47</td>\n",
       "      <td>13913.04</td>\n",
       "      <td>48742.91</td>\n",
       "      <td>0.00</td>\n",
       "      <td>conventional</td>\n",
       "      <td>2016.0</td>\n",
       "      <td>7</td>\n",
       "    </tr>\n",
       "    <tr>\n",
       "      <th>1508</th>\n",
       "      <td>2016-11-13</td>\n",
       "      <td>1.64</td>\n",
       "      <td>144089.12</td>\n",
       "      <td>49399.39</td>\n",
       "      <td>26597.39</td>\n",
       "      <td>22714.68</td>\n",
       "      <td>45377.66</td>\n",
       "      <td>0.00</td>\n",
       "      <td>conventional</td>\n",
       "      <td>2016.0</td>\n",
       "      <td>7</td>\n",
       "    </tr>\n",
       "    <tr>\n",
       "      <th>1509</th>\n",
       "      <td>2016-06-11</td>\n",
       "      <td>1.57</td>\n",
       "      <td>142095.92</td>\n",
       "      <td>36840.74</td>\n",
       "      <td>27501.34</td>\n",
       "      <td>25305.86</td>\n",
       "      <td>52447.98</td>\n",
       "      <td>0.00</td>\n",
       "      <td>conventional</td>\n",
       "      <td>2016.0</td>\n",
       "      <td>7</td>\n",
       "    </tr>\n",
       "    <tr>\n",
       "      <th>1510</th>\n",
       "      <td>2016-10-30</td>\n",
       "      <td>1.58</td>\n",
       "      <td>142955.49</td>\n",
       "      <td>39376.44</td>\n",
       "      <td>29382.30</td>\n",
       "      <td>26881.22</td>\n",
       "      <td>47315.53</td>\n",
       "      <td>240.28</td>\n",
       "      <td>conventional</td>\n",
       "      <td>2016.0</td>\n",
       "      <td>7</td>\n",
       "    </tr>\n",
       "    <tr>\n",
       "      <th>1511</th>\n",
       "      <td>2016-10-23</td>\n",
       "      <td>1.52</td>\n",
       "      <td>167741.27</td>\n",
       "      <td>54981.90</td>\n",
       "      <td>39749.81</td>\n",
       "      <td>20290.31</td>\n",
       "      <td>52719.25</td>\n",
       "      <td>0.00</td>\n",
       "      <td>conventional</td>\n",
       "      <td>2016.0</td>\n",
       "      <td>7</td>\n",
       "    </tr>\n",
       "    <tr>\n",
       "      <th>1512</th>\n",
       "      <td>2016-10-16</td>\n",
       "      <td>1.39</td>\n",
       "      <td>190846.01</td>\n",
       "      <td>57529.11</td>\n",
       "      <td>56366.66</td>\n",
       "      <td>17531.78</td>\n",
       "      <td>59418.46</td>\n",
       "      <td>240.28</td>\n",
       "      <td>conventional</td>\n",
       "      <td>2016.0</td>\n",
       "      <td>7</td>\n",
       "    </tr>\n",
       "    <tr>\n",
       "      <th>1513</th>\n",
       "      <td>2016-09-10</td>\n",
       "      <td>1.51</td>\n",
       "      <td>178235.75</td>\n",
       "      <td>43325.87</td>\n",
       "      <td>52189.61</td>\n",
       "      <td>19419.57</td>\n",
       "      <td>63300.70</td>\n",
       "      <td>0.00</td>\n",
       "      <td>conventional</td>\n",
       "      <td>2016.0</td>\n",
       "      <td>7</td>\n",
       "    </tr>\n",
       "    <tr>\n",
       "      <th>1514</th>\n",
       "      <td>2016-02-10</td>\n",
       "      <td>1.48</td>\n",
       "      <td>178410.82</td>\n",
       "      <td>46364.75</td>\n",
       "      <td>52893.38</td>\n",
       "      <td>16736.92</td>\n",
       "      <td>62415.77</td>\n",
       "      <td>825.00</td>\n",
       "      <td>conventional</td>\n",
       "      <td>2016.0</td>\n",
       "      <td>7</td>\n",
       "    </tr>\n",
       "    <tr>\n",
       "      <th>1515</th>\n",
       "      <td>2016-09-25</td>\n",
       "      <td>1.47</td>\n",
       "      <td>189131.52</td>\n",
       "      <td>54110.79</td>\n",
       "      <td>53593.58</td>\n",
       "      <td>17495.42</td>\n",
       "      <td>63931.73</td>\n",
       "      <td>0.00</td>\n",
       "      <td>conventional</td>\n",
       "      <td>2016.0</td>\n",
       "      <td>7</td>\n",
       "    </tr>\n",
       "    <tr>\n",
       "      <th>1516</th>\n",
       "      <td>2016-09-18</td>\n",
       "      <td>1.43</td>\n",
       "      <td>182978.30</td>\n",
       "      <td>43116.41</td>\n",
       "      <td>54193.42</td>\n",
       "      <td>16563.91</td>\n",
       "      <td>69104.56</td>\n",
       "      <td>0.00</td>\n",
       "      <td>conventional</td>\n",
       "      <td>2016.0</td>\n",
       "      <td>7</td>\n",
       "    </tr>\n",
       "  </tbody>\n",
       "</table>\n",
       "</div>"
      ],
      "text/plain": [
       "           Date  AveragePrice  Total Volume  PLU_4046  PLU_4225  PLU_4770  \\\n",
       "1507 2016-11-20          1.57     135608.11  44044.69  28907.47  13913.04   \n",
       "1508 2016-11-13          1.64     144089.12  49399.39  26597.39  22714.68   \n",
       "1509 2016-06-11          1.57     142095.92  36840.74  27501.34  25305.86   \n",
       "1510 2016-10-30          1.58     142955.49  39376.44  29382.30  26881.22   \n",
       "1511 2016-10-23          1.52     167741.27  54981.90  39749.81  20290.31   \n",
       "1512 2016-10-16          1.39     190846.01  57529.11  56366.66  17531.78   \n",
       "1513 2016-09-10          1.51     178235.75  43325.87  52189.61  19419.57   \n",
       "1514 2016-02-10          1.48     178410.82  46364.75  52893.38  16736.92   \n",
       "1515 2016-09-25          1.47     189131.52  54110.79  53593.58  17495.42   \n",
       "1516 2016-09-18          1.43     182978.30  43116.41  54193.42  16563.91   \n",
       "\n",
       "      Total Bags  XLarge Bags          type    year  region  \n",
       "1507    48742.91         0.00  conventional  2016.0       7  \n",
       "1508    45377.66         0.00  conventional  2016.0       7  \n",
       "1509    52447.98         0.00  conventional  2016.0       7  \n",
       "1510    47315.53       240.28  conventional  2016.0       7  \n",
       "1511    52719.25         0.00  conventional  2016.0       7  \n",
       "1512    59418.46       240.28  conventional  2016.0       7  \n",
       "1513    63300.70         0.00  conventional  2016.0       7  \n",
       "1514    62415.77       825.00  conventional  2016.0       7  \n",
       "1515    63931.73         0.00  conventional  2016.0       7  \n",
       "1516    69104.56         0.00  conventional  2016.0       7  "
      ]
     },
     "execution_count": 37,
     "metadata": {},
     "output_type": "execute_result"
    }
   ],
   "source": [
    "avocado_ds.tail(10)"
   ]
  },
  {
   "cell_type": "code",
   "execution_count": 38,
   "id": "f59bdd3e",
   "metadata": {},
   "outputs": [],
   "source": [
    "# Treating the outlier with zscore and delete the date and year columns, i kept it for EDA purpose.\n",
    "avocado_ds.drop(columns=[\"Date\",\"year\",\"type\"],axis = 1,inplace = True)\n",
    "\n",
    "score = np.abs(zscore(avocado_ds))\n",
    "\n",
    "new_avocado_ds = avocado_ds[(score <3).all(axis = 1)]"
   ]
  },
  {
   "cell_type": "code",
   "execution_count": 40,
   "id": "d83d6808",
   "metadata": {},
   "outputs": [
    {
     "name": "stdout",
     "output_type": "stream",
     "text": [
      "before PLU_4046       2.975422\n",
      "PLU_4225       2.276566\n",
      "PLU_4770       3.205071\n",
      "XLarge Bags    4.922540\n",
      "dtype: float64\n",
      "after 0   -0.026799\n",
      "1    0.000982\n",
      "2   -0.056341\n",
      "3    0.466782\n",
      "dtype: float64\n"
     ]
    }
   ],
   "source": [
    "from sklearn.preprocessing import power_transform\n",
    "select_data =new_avocado_ds[[\"PLU_4046\",\"PLU_4225\",\"PLU_4770\",\"XLarge Bags\"]]\n",
    "\n",
    "print(\"before\",select_data.skew())\n",
    "select_data = power_transform(select_data,method='yeo-johnson', standardize=False)\n",
    "tranform_data = pd.DataFrame(select_data)\n",
    "print(\"after\",tranform_data.skew())"
   ]
  },
  {
   "cell_type": "code",
   "execution_count": 42,
   "id": "24e00332",
   "metadata": {},
   "outputs": [],
   "source": [
    "\n",
    "# checking the name of the columsn becaue after power_transform it get convert into numpy array and index value assigned to columns.\n",
    "tranform_data.rename(columns = {0:\"trans_PLU_4046\",1:\"trans_PLU_4225\",2:\"trans_PLU_4770\",3:\"trans_Xlarge Bags\"}, inplace = True)\n",
    "# joining transformed data \n",
    "\n",
    "new_avocado_ds = pd.concat([new_avocado_ds,tranform_data],axis = 1,join = \"inner\")\n",
    "\n",
    "# since transformed features are added in the data so we need to deleted original one to avoid duplicacy\n",
    "new_avocado_ds.drop(columns =[\"PLU_4046\",\"PLU_4225\",\"PLU_4770\",\"XLarge Bags\"],axis =1, inplace =True)\n"
   ]
  },
  {
   "cell_type": "code",
   "execution_count": 43,
   "id": "9c6397a2",
   "metadata": {},
   "outputs": [
    {
     "data": {
      "text/plain": [
       "AveragePrice        -0.255823\n",
       "Total Volume         2.695689\n",
       "Total Bags           2.962352\n",
       "region               0.229088\n",
       "trans_PLU_4046      -0.034920\n",
       "trans_PLU_4225      -0.010051\n",
       "trans_PLU_4770      -0.054778\n",
       "trans_Xlarge Bags    0.508620\n",
       "dtype: float64"
      ]
     },
     "execution_count": 43,
     "metadata": {},
     "output_type": "execute_result"
    }
   ],
   "source": [
    "new_avocado_ds.skew()"
   ]
  },
  {
   "cell_type": "code",
   "execution_count": 44,
   "id": "434428f0",
   "metadata": {},
   "outputs": [
    {
     "data": {
      "text/plain": [
       "AveragePrice        -0.255823\n",
       "Total Volume         0.430677\n",
       "Total Bags           0.293345\n",
       "region               0.229088\n",
       "trans_PLU_4046      -0.034920\n",
       "trans_PLU_4225      -0.010051\n",
       "trans_PLU_4770      -0.054778\n",
       "trans_Xlarge Bags    0.508620\n",
       "dtype: float64"
      ]
     },
     "execution_count": 44,
     "metadata": {},
     "output_type": "execute_result"
    }
   ],
   "source": [
    "new_avocado_ds[\"Total Volume\"] = np.log1p(new_avocado_ds[\"Total Volume\"])\n",
    "new_avocado_ds[\"Total Bags\"] = np.log1p(new_avocado_ds[\"Total Bags\"])\n",
    "new_avocado_ds.skew()"
   ]
  },
  {
   "cell_type": "code",
   "execution_count": 45,
   "id": "3408510f",
   "metadata": {},
   "outputs": [
    {
     "data": {
      "text/plain": [
       "<AxesSubplot:>"
      ]
     },
     "execution_count": 45,
     "metadata": {},
     "output_type": "execute_result"
    },
    {
     "data": {
      "image/png": "[encoded data removed]",
      "text/plain": [
       "<Figure size 864x432 with 2 Axes>"
      ]
     },
     "metadata": {
      "needs_background": "light"
     },
     "output_type": "display_data"
    }
   ],
   "source": [
    "plt.figure(figsize=(12,6))\n",
    "sns.heatmap(new_avocado_ds.corr(),annot = True)"
   ]
  },
  {
   "cell_type": "code",
   "execution_count": 46,
   "id": "714af72b",
   "metadata": {},
   "outputs": [],
   "source": [
    "new_avocado_dsX_check = new_avocado_ds.copy()"
   ]
  },
  {
   "cell_type": "code",
   "execution_count": 47,
   "id": "05a5dd1d",
   "metadata": {},
   "outputs": [],
   "source": [
    "new_avocado_ds.drop(\"Total Bags\",axis =1, inplace = True)"
   ]
  },
  {
   "cell_type": "code",
   "execution_count": 48,
   "id": "eaec4043",
   "metadata": {
    "scrolled": true
   },
   "outputs": [
    {
     "data": {
      "text/plain": [
       "<AxesSubplot:>"
      ]
     },
     "execution_count": 48,
     "metadata": {},
     "output_type": "execute_result"
    },
    {
     "data": {
      "image/png": "[encoded data removed]",
      "text/plain": [
       "<Figure size 864x432 with 2 Axes>"
      ]
     },
     "metadata": {
      "needs_background": "light"
     },
     "output_type": "display_data"
    }
   ],
   "source": [
    "plt.figure(figsize=(12,6))\n",
    "sns.heatmap(new_avocado_ds.corr(),annot = True)"
   ]
  },
  {
   "cell_type": "markdown",
   "id": "5b7d81af",
   "metadata": {},
   "source": [
    "# Data is ready for \"Modeling\""
   ]
  },
  {
   "cell_type": "code",
   "execution_count": 49,
   "id": "9121ce8f",
   "metadata": {},
   "outputs": [],
   "source": [
    "X = new_avocado_ds.drop(\"AveragePrice\",axis =1)\n",
    "y =new_avocado_ds[\"AveragePrice\"]"
   ]
  },
  {
   "cell_type": "code",
   "execution_count": 50,
   "id": "9a3f6840",
   "metadata": {},
   "outputs": [],
   "source": [
    "sc = StandardScaler()\n",
    "X = sc.fit_transform(X)"
   ]
  },
  {
   "cell_type": "code",
   "execution_count": 51,
   "id": "565ed627",
   "metadata": {},
   "outputs": [
    {
     "name": "stdout",
     "output_type": "stream",
     "text": [
      "Training_score 0.19869838820001762 Random_state 50\n",
      "test_score 0.1995176979589789\n",
      "Mean_squared_error 0.02549721425154033\n",
      "R2_scoe 0.1995176979589789 \n",
      "\n",
      "Training_score 0.1967985178696946 Random_state 125\n",
      "test_score 0.20419587059792488\n",
      "Mean_squared_error 0.027086035563694807\n",
      "R2_scoe 0.20419587059792488 \n",
      "\n",
      "Training_score 0.20587630233707288 Random_state 200\n",
      "test_score 0.16139288717246147\n",
      "Mean_squared_error 0.024883901646120817\n",
      "R2_scoe 0.16139288717246147 \n",
      "\n",
      "Training_score 0.19752381356218496 Random_state 275\n",
      "test_score 0.2027497810184885\n",
      "Mean_squared_error 0.02567006036086617\n",
      "R2_scoe 0.2027497810184885 \n",
      "\n",
      "Training_score 0.19179433425027548 Random_state 350\n",
      "test_score 0.21839490373146186\n",
      "Mean_squared_error 0.028297682254727945\n",
      "R2_scoe 0.21839490373146186 \n",
      "\n",
      "Training_score 0.2180441716562086 Random_state 425\n",
      "test_score 0.10714957624331034\n",
      "Mean_squared_error 0.027600444623727533\n",
      "R2_scoe 0.10714957624331034 \n",
      "\n"
     ]
    }
   ],
   "source": [
    "for i in range(50,500,75):\n",
    "    LR = LinearRegression()\n",
    "    X_train,X_test,y_train,y_test = train_test_split(X,y,test_size = 0.2, random_state =i)\n",
    "    LR.fit(X_train,y_train)\n",
    "    print(\"Training_score\",LR.score(X_train,y_train),\"Random_state\",i)\n",
    "    pred = LR.predict(X_test)\n",
    "    print(\"test_score\",LR.score(X_test,y_test))\n",
    "    print(\"Mean_squared_error\",mean_squared_error(y_test,pred))\n",
    "    print(\"R2_scoe\",r2_score(y_test,pred),\"\\n\")"
   ]
  },
  {
   "cell_type": "code",
   "execution_count": 52,
   "id": "b10de1e4",
   "metadata": {},
   "outputs": [
    {
     "name": "stdout",
     "output_type": "stream",
     "text": [
      "Training_score 0.9623809630331692 Random_state 50\n",
      "test_score 0.7401883044138402\n",
      "Mean_squared_error 0.008275603908450706\n",
      "R2_scoe 0.7401883044138402 \n",
      "\n",
      "Training_score 0.9660236683246095 Random_state 100\n",
      "test_score 0.6980602202133581\n",
      "Mean_squared_error 0.009926163943661984\n",
      "R2_scoe 0.6980602202133581 \n",
      "\n",
      "Training_score 0.9617246445167223 Random_state 150\n",
      "test_score 0.7446494190915389\n",
      "Mean_squared_error 0.010334602746478872\n",
      "R2_scoe 0.7446494190915389 \n",
      "\n",
      "Training_score 0.9657843033546463 Random_state 200\n",
      "test_score 0.7028975047519175\n",
      "Mean_squared_error 0.008815891443661968\n",
      "R2_scoe 0.7028975047519175 \n",
      "\n",
      "Training_score 0.9607883732383234 Random_state 250\n",
      "test_score 0.7251786193061025\n",
      "Mean_squared_error 0.009827681197183092\n",
      "R2_scoe 0.7251786193061025 \n",
      "\n",
      "Training_score 0.9636247075060475 Random_state 300\n",
      "test_score 0.7299940702651296\n",
      "Mean_squared_error 0.009595858626760545\n",
      "R2_scoe 0.7299940702651296 \n",
      "\n",
      "Training_score 0.9638552337187631 Random_state 350\n",
      "test_score 0.7500828313282308\n",
      "Mean_squared_error 0.00904814549295774\n",
      "R2_scoe 0.7500828313282308 \n",
      "\n",
      "Training_score 0.9639980519103171 Random_state 400\n",
      "test_score 0.7120489188203442\n",
      "Mean_squared_error 0.01003903658450704\n",
      "R2_scoe 0.7120489188203442 \n",
      "\n",
      "Training_score 0.9638106545870916 Random_state 450\n",
      "test_score 0.767896876992133\n",
      "Mean_squared_error 0.007182914823943669\n",
      "R2_scoe 0.767896876992133 \n",
      "\n"
     ]
    }
   ],
   "source": [
    "for i in range(50,500,50):\n",
    "    RF = RandomForestRegressor()\n",
    "    X_train,X_test,y_train,y_test = train_test_split(X,y,test_size = 0.2, random_state =i)\n",
    "    RF.fit(X_train,y_train)\n",
    "    print(\"Training_score\",RF.score(X_train,y_train),\"Random_state\",i)\n",
    "    pred = RF.predict(X_test)\n",
    "    print(\"test_score\",RF.score(X_test,y_test))\n",
    "    print(\"Mean_squared_error\",mean_squared_error(y_test,pred))\n",
    "    print(\"R2_scoe\",r2_score(y_test,pred),\"\\n\")"
   ]
  },
  {
   "cell_type": "code",
   "execution_count": 53,
   "id": "3c428418",
   "metadata": {},
   "outputs": [
    {
     "name": "stdout",
     "output_type": "stream",
     "text": [
      "Training_score 0.9627830083884357 Random_state 50\n",
      "test_score 0.747352920685274\n",
      "Mean_squared_error 0.008047394295774647\n",
      "R2_scoe 0.747352920685274 \n",
      "\n",
      "Training_score 0.9656649663076535 Random_state 100\n",
      "test_score 0.6864558737843278\n",
      "Mean_squared_error 0.01030765274647888\n",
      "R2_scoe 0.6864558737843278 \n",
      "\n",
      "Training_score 0.9611081101192555 Random_state 150\n",
      "test_score 0.7438320542364831\n",
      "Mean_squared_error 0.010367683309859156\n",
      "R2_scoe 0.7438320542364831 \n",
      "\n",
      "Training_score 0.9657681205844558 Random_state 200\n",
      "test_score 0.7064057271953408\n",
      "Mean_squared_error 0.008711792323943661\n",
      "R2_scoe 0.7064057271953408 \n",
      "\n",
      "Training_score 0.9614770395848392 Random_state 250\n",
      "test_score 0.7299131360225353\n",
      "Mean_squared_error 0.009658373697183083\n",
      "R2_scoe 0.7299131360225353 \n",
      "\n",
      "Training_score 0.9637476384808333 Random_state 300\n",
      "test_score 0.7294591923275081\n",
      "Mean_squared_error 0.00961486788732393\n",
      "R2_scoe 0.7294591923275081 \n",
      "\n",
      "Training_score 0.9642520371123169 Random_state 350\n",
      "test_score 0.7442507406074634\n",
      "Mean_squared_error 0.009259293873239439\n",
      "R2_scoe 0.7442507406074634 \n",
      "\n",
      "Training_score 0.9657440486168866 Random_state 400\n",
      "test_score 0.7125184113063119\n",
      "Mean_squared_error 0.010022668345070424\n",
      "R2_scoe 0.7125184113063119 \n",
      "\n",
      "Training_score 0.9659053707252973 Random_state 450\n",
      "test_score 0.7678508795753961\n",
      "Mean_squared_error 0.007184338309859158\n",
      "R2_scoe 0.7678508795753961 \n",
      "\n"
     ]
    }
   ],
   "source": [
    "for i in range(50,500,50):\n",
    "    RF = RandomForestRegressor()\n",
    "    X_train,X_test,y_train,y_test = train_test_split(X,y,test_size = 0.2, random_state =i)\n",
    "    RF.fit(X_train,y_train)\n",
    "    print(\"Training_score\",RF.score(X_train,y_train),\"Random_state\",i)\n",
    "    pred = RF.predict(X_test)\n",
    "    print(\"test_score\",RF.score(X_test,y_test))\n",
    "    print(\"Mean_squared_error\",mean_squared_error(y_test,pred))\n",
    "    print(\"R2_scoe\",r2_score(y_test,pred),\"\\n\")"
   ]
  },
  {
   "cell_type": "code",
   "execution_count": 54,
   "id": "aa04f2e7",
   "metadata": {},
   "outputs": [
    {
     "name": "stdout",
     "output_type": "stream",
     "text": [
      "Training_score 0.19985775947811701 Algorithm LinearRegression()\n",
      "test_score 0.1905580240093907\n",
      "Mean_squared_error 0.02504986875281353\n",
      "R2_scoe 0.1905580240093907 \n",
      "\n",
      "Training_score 0.19985755925334336 Algorithm Ridge()\n",
      "test_score 0.19053662764134027\n",
      "Mean_squared_error 0.025050530908010994\n",
      "R2_scoe 0.19053662764134027 \n",
      "\n",
      "Training_score 0.0 Algorithm Lasso()\n",
      "test_score -0.0039917765760231205\n",
      "Mean_squared_error 0.03107061775657807\n",
      "R2_scoe -0.0039917765760231205 \n",
      "\n",
      "Training_score 0.9657093590656514 Algorithm RandomForestRegressor()\n",
      "test_score 0.7698957626795422\n",
      "Mean_squared_error 0.007121055140845076\n",
      "R2_scoe 0.7698957626795422 \n",
      "\n",
      "Training_score 0.5890406817810396 Algorithm AdaBoostRegressor()\n",
      "test_score 0.5237825294820453\n",
      "Mean_squared_error 0.014737542020442498\n",
      "R2_scoe 0.5237825294820453 \n",
      "\n",
      "Training_score 1.0 Algorithm DecisionTreeRegressor()\n",
      "test_score 0.5685729715696848\n",
      "Mean_squared_error 0.013351408450704223\n",
      "R2_scoe 0.5685729715696848 \n",
      "\n",
      "Training_score 0.6713738765896875 Algorithm SVR()\n",
      "test_score 0.5840642321519184\n",
      "Mean_squared_error 0.012871999109564389\n",
      "R2_scoe 0.5840642321519184 \n",
      "\n",
      "Training_score 0.8081691466638513 Algorithm KNeighborsRegressor()\n",
      "test_score 0.6493696806337006\n",
      "Mean_squared_error 0.010850985915492958\n",
      "R2_scoe 0.6493696806337006 \n",
      "\n"
     ]
    }
   ],
   "source": [
    "models = [LinearRegression(),Ridge(),Lasso(),RandomForestRegressor(),AdaBoostRegressor(),DecisionTreeRegressor(),SVR(),KNeighborsRegressor()]\n",
    "\n",
    "for model in models:\n",
    "    X_train1,X_test1,y_train1,y_test1 = train_test_split(X,y,test_size = 0.2, random_state =450)\n",
    "    model.fit(X_train,y_train)\n",
    "    print(\"Training_score\",model.score(X_train,y_train),\"Algorithm\",model)\n",
    "    pred = model.predict(X_test)\n",
    "    print(\"test_score\",model.score(X_test,y_test))\n",
    "    print(\"Mean_squared_error\",mean_squared_error(y_test,pred))\n",
    "    print(\"R2_scoe\",r2_score(y_test,pred),\"\\n\")"
   ]
  },
  {
   "cell_type": "code",
   "execution_count": 59,
   "id": "8e2989bb",
   "metadata": {},
   "outputs": [
    {
     "name": "stdout",
     "output_type": "stream",
     "text": [
      "Fitting 5 folds for each of 36 candidates, totalling 180 fits\n",
      "{'max_depth': 5, 'max_features': 'auto', 'n_estimators': 200}\n"
     ]
    }
   ],
   "source": [
    "RF = RandomForestRegressor()\n",
    "para = {\"n_estimators\":[100,200,300],\n",
    "       \"max_depth\":[2,3,4,5],\n",
    "       \"max_features\":[\"auto\", \"sqrt\", \"log2\"]}\n",
    "\n",
    "grid_search_RF = GridSearchCV(RF,para,scoring=\"r2\",cv = 5, n_jobs = -1, verbose =2)\n",
    "grid_search_RF.fit(X_train1,y_train1)\n",
    "print(grid_search_RF.best_params_)"
   ]
  },
  {
   "cell_type": "code",
   "execution_count": 60,
   "id": "4fe5db20",
   "metadata": {},
   "outputs": [
    {
     "data": {
      "text/plain": [
       "0.5788871002041656"
      ]
     },
     "execution_count": 60,
     "metadata": {},
     "output_type": "execute_result"
    }
   ],
   "source": [
    "grid_search_RF.best_score_"
   ]
  },
  {
   "cell_type": "code",
   "execution_count": 61,
   "id": "b0dc7347",
   "metadata": {},
   "outputs": [
    {
     "name": "stdout",
     "output_type": "stream",
     "text": [
      "Fitting 5 folds for each of 64 candidates, totalling 320 fits\n",
      "{'algorithm': 'auto', 'n_neighbors': 5, 'p': 1, 'weights': 'distance'}\n"
     ]
    }
   ],
   "source": [
    "knn = KNeighborsRegressor()\n",
    "grid_para = {\"n_neighbors\":[5,7,10,12],\n",
    "            \"weights\":[\"uniform\", \"distance\"],\n",
    "            \"algorithm\" :[\"auto\", \"ball_tree\", \"kd_tree\", \"brute\"],\n",
    "            \"p\" :[1,2]}\n",
    "grid_search_KNN = GridSearchCV(knn,grid_para,scoring=\"r2\",cv = 5, n_jobs = -1, verbose =2)\n",
    "grid_search_KNN.fit(X_train1,y_train1)\n",
    "print(grid_search_KNN.best_params_)"
   ]
  },
  {
   "cell_type": "code",
   "execution_count": 62,
   "id": "83ea487a",
   "metadata": {},
   "outputs": [
    {
     "data": {
      "text/plain": [
       "0.706584416718475"
      ]
     },
     "execution_count": 62,
     "metadata": {},
     "output_type": "execute_result"
    }
   ],
   "source": [
    "grid_search_KNN.best_score_"
   ]
  },
  {
   "cell_type": "code",
   "execution_count": 63,
   "id": "32040d7c",
   "metadata": {},
   "outputs": [
    {
     "name": "stdout",
     "output_type": "stream",
     "text": [
      "At 2 mean is  -0.04960754228907262 and the SD is  0.009896697013880757\n",
      "At 3 mean is  -0.03386407199445488 and the SD is  0.007879077402134439\n",
      "At 4 mean is  -0.03903495443201924 and the SD is  0.016797148079127185\n",
      "At 5 mean is  -0.0351863388202413 and the SD is  0.016974111752966675\n",
      "At 6 mean is  -0.03497812141084874 and the SD is  0.014522895105238208\n",
      "At 7 mean is  -0.029726106247037858 and the SD is  0.017702144920251968\n",
      "At 8 mean is  -0.031182141740005748 and the SD is  0.018844255457652462\n",
      "At 9 mean is  -0.03146404575169428 and the SD is  0.02259875270925185\n"
     ]
    }
   ],
   "source": [
    "best_RF = RandomForestRegressor(max_depth = 5,max_features=\"auto\",n_estimators =200)\n",
    "\n",
    "for i in range(2,10):\n",
    "    cross_val_report = cross_val_score(best_RF,X,y,scoring = \"neg_mean_squared_error\",cv = i)\n",
    "    print(\"At\",i,\"mean is \",cross_val_report.mean() ,\"and the SD is \",cross_val_report.std())\n",
    "\n"
   ]
  },
  {
   "cell_type": "code",
   "execution_count": 64,
   "id": "e7cb32e7",
   "metadata": {},
   "outputs": [
    {
     "name": "stdout",
     "output_type": "stream",
     "text": [
      "At 2 mean is  -0.04040044654546724 and the SD is  0.0031320660153354996\n",
      "At 3 mean is  -0.040694879423680955 and the SD is  0.004987851991341175\n",
      "At 4 mean is  -0.032501614934171294 and the SD is  0.011919421727307734\n",
      "At 5 mean is  -0.0365731160952418 and the SD is  0.011795255656627177\n",
      "At 6 mean is  -0.0353383949449379 and the SD is  0.008468625864483617\n",
      "At 7 mean is  -0.037960890643166524 and the SD is  0.013207479031555384\n",
      "At 8 mean is  -0.03191588173693921 and the SD is  0.01596983975715626\n",
      "At 9 mean is  -0.041492109806076455 and the SD is  0.02899200478721475\n"
     ]
    }
   ],
   "source": [
    "best_knn =  knn = KNeighborsRegressor(algorithm =\"auto\",p =1,weights = \"distance\")\n",
    "\n",
    "for i in range(2,10):\n",
    "    cross_val_report = cross_val_score(best_knn,X,y,scoring = \"neg_mean_squared_error\",cv = i)\n",
    "    print(\"At\",i,\"mean is \",cross_val_report.mean() ,\"and the SD is \",cross_val_report.std())\n"
   ]
  },
  {
   "cell_type": "markdown",
   "id": "32d66298",
   "metadata": {},
   "source": [
    "\n",
    "# Modeling saving"
   ]
  },
  {
   "cell_type": "code",
   "execution_count": 67,
   "id": "7365f666",
   "metadata": {},
   "outputs": [],
   "source": [
    "best_knn.fit(X,y)\n",
    "import pickle\n",
    "filename = \"Avocado.pkl\"\n",
    "with open(filename,\"wb\") as f:\n",
    "    pickle.dump(best_knn,f)"
   ]
  },
  {
   "cell_type": "markdown",
   "id": "23a9f973",
   "metadata": {},
   "source": [
    "\n"
   ]
  }
 ],
 "metadata": {
  "kernelspec": {
   "display_name": "Python 3 (ipykernel)",
   "language": "python",
   "name": "python3"
  },
  "language_info": {
   "codemirror_mode": {
    "name": "ipython",
    "version": 3
   },
   "file_extension": ".py",
   "mimetype": "text/x-python",
   "name": "python",
   "nbconvert_exporter": "python",
   "pygments_lexer": "ipython3",
   "version": "3.9.12"
  }
 },
 "nbformat": 4,
 "nbformat_minor": 5
}
